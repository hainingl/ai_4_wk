{
 "cells": [
  {
   "cell_type": "code",
   "execution_count": null,
   "metadata": {},
   "outputs": [],
   "source": [
    "%pip install pandas_datareader\n",
    "import pandas_datareader.data as web"
   ]
  },
  {
   "cell_type": "code",
   "execution_count": null,
   "metadata": {},
   "outputs": [],
   "source": [
    "import datetime\n",
    "import yfinance as yf\n",
    "\n",
    "# 1. 获取数据\n",
    "start = datetime.datetime(2000, 1, 1)\n",
    "end = datetime.datetime(2024, 12, 31)  # 可根据需要调整\n",
    "df = yf.download('SPY', start=start, end=end)\n",
    "\n",
    "# 打印列名以检查可用列\n",
    "print(df.columns)\n",
    "\n",
    "# 2. 计算7日回报率\n",
    "df['7d_return'] = df['Close'].pct_change(periods=7)\n",
    "\n",
    "# 3. 打印数据\n",
    "print(df.head())"
   ]
  },
  {
   "cell_type": "code",
   "execution_count": null,
   "metadata": {},
   "outputs": [],
   "source": [
    "import pandas_datareader.data as web\n",
    "import pandas as pd\n",
    "import datetime\n",
    "\n",
    "# 1. 获取数据\n",
    "start = datetime.datetime(2000, 1, 1)\n",
    "end = datetime.datetime(2024, 12, 31)  # 可根据需要调整\n",
    "df = web.DataReader('SPY', 'yahoo', start, end)\n",
    "\n",
    "# 2. 计算7日回报率\n",
    "df['7d_return'] = df['Adj Close'].pct_change(periods=7)\n",
    "\n",
    "# 3. 筛选7日回报率 <= -5%\n",
    "down_5 = df[df['7d_return'] <= -0.05].copy()\n",
    "\n",
    "# 4. 组织结果\n",
    "#   通常我们会把 t ~ t+7 这段区间的开始日设为索引 t\n",
    "#   结束日可以认为是 t+7 的那一天。示例中可自行组织日期字段。\n",
    "results = []\n",
    "for idx in down_5.index:\n",
    "    start_date = idx.strftime('%Y-%m-%d')\n",
    "    end_index = idx + pd.Timedelta(days=7)\n",
    "    # 若使用交易日为准，需要通过 df.index.get_loc(idx)+7 再获取对应日期\n",
    "    # 这里仅作示例展示\n",
    "    end_date = end_index.strftime('%Y-%m-%d')\n",
    "    ret = down_5.loc[idx, '7d_return']\n",
    "    results.append((start_date, end_date, ret))\n",
    "\n",
    "# 5. 转成DataFrame或直接输出\n",
    "results_df = pd.DataFrame(results, columns=['StartDate','EndDate','7dReturn'])\n",
    "print(results_df)\n",
    "print(\"Total count:\", len(results_df))"
   ]
  }
 ],
 "metadata": {
  "kernelspec": {
   "display_name": "Python 3",
   "language": "python",
   "name": "python3"
  },
  "language_info": {
   "codemirror_mode": {
    "name": "ipython",
    "version": 3
   },
   "file_extension": ".py",
   "mimetype": "text/x-python",
   "name": "python",
   "nbconvert_exporter": "python",
   "pygments_lexer": "ipython3",
   "version": "3.9.6"
  }
 },
 "nbformat": 4,
 "nbformat_minor": 2
}
