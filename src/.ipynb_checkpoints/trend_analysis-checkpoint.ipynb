{
 "cells": [
  {
   "cell_type": "code",
   "execution_count": null,
   "metadata": {},
   "outputs": [],
   "source": [
    "# need to find large cap stock in US which has upward trend in the past 5 days\n",
    "# and has a good potential to grow in the future\n",
    "# 1. find large cap stock\n",
    "# 2. find stock with upward trend in the past 5 days\n",
    "# 3. find stock with good potential to grow in the future\n",
    "\n",
    "import requests\n",
    "import json\n",
    "import pandas as pd\n",
    "import numpy as np\n",
    "import datetime\n",
    "import time\n",
    "import matplotlib.pyplot as plt \n",
    "import matplotlib.dates as mdates\n"
   ]
  }
 ],
 "metadata": {
  "kernelspec": {
   "display_name": "ai_4_wk",
   "language": "python",
   "name": "python3"
  },
  "language_info": {
   "name": "python",
   "version": "3.13.2"
  }
 },
 "nbformat": 4,
 "nbformat_minor": 2
}
