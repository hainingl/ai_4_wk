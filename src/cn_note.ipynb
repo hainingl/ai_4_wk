{
 "cells": [
  {
   "cell_type": "markdown",
   "metadata": {},
   "source": [
    "https://mp.weixin.qq.com/s/umyyw0-teRMa_3PxamHh3g\n",
    "\n",
    "# 中小盘绩优基，有这7只就够了！\n",
    "Original 祝您有吉星高照的  基星高照\n",
    "2022年08月05日 04:26\n",
    "\n",
    "\n",
    "投资的话，会首选易方达供给改革（002910），其次是建信潜力新蓝筹（000756）。"
   ]
  },
  {
   "cell_type": "markdown",
   "metadata": {},
   "source": [
    "# 挖掘出2只，今年以来且长期优秀的基金！\n",
    "Original 基星高照  基星高照\n",
    " 2022年01月11日 03:13\n",
    "\n",
    "https://mp.weixin.qq.com/s/uK8_AcQvEbby8zVehfvuMA\n",
    "\n",
    "综上，这两只都不错，如果投，将首选金元顺安元启灵活配置混合（004685），然后是中庚价值领航混合（006551），都投的话将以2:1的比例分配资金。\n"
   ]
  }
 ],
 "metadata": {
  "language_info": {
   "name": "python"
  }
 },
 "nbformat": 4,
 "nbformat_minor": 2
}
