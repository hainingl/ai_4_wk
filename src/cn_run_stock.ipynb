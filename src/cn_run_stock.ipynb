{
 "cells": [
  {
   "cell_type": "code",
   "execution_count": null,
   "metadata": {},
   "outputs": [],
   "source": [
    "# make global variables by replaceing 6 didgit numbers like https://q.stock.sohu.com/cn/002080/fhsp.shtml\n",
    "# Define the URL template as a global variable\n",
    "DIVIDEND_URL_TEMPLATE = 'https://q.stock.sohu.com/cn/{symbol}/fhsp.shtml'\n",
    "# do the same for https://fundf10.eastmoney.com/jdzf_012734.html \n",
    "FUND_URL_TEMPLATE = 'https://fundf10.eastmoney.com/jdzf_{symbol}.html'\n",
    "# do the same for https://j4.dfcfw.com/charts/pic6/019933.png\n",
    "CHART_CHINA_ONE_DAY_TEMPLATE = 'https://j4.dfcfw.com/charts/pic6/{symbol}.png'\n",
    "# for https://stockcharts.com/c-sc/sc?s=MCHI&p=D&b=5&i=t4273131773c, here MCHI is the symbol and last part is the time\n",
    "CHART_US_TEMPLATE = 'https://stockcharts.com/c-sc/sc?s={symbol}&p=D&b=5&i=t4273131773c'\n",
    "\n",
    "# make https://cn.tradingview.com/chart/DWv74HO8/?symbol=510210 , parameterized\n",
    "CHART_TRADING_VIEW_TEMPLATE = 'https://cn.tradingview.com/chart/DWv74HO8/?symbol={symbol}'"
   ]
  },
  {
   "cell_type": "code",
   "execution_count": null,
   "metadata": {},
   "outputs": [],
   "source": [
    "import csv\n",
    "import webbrowser\n",
    "import os\n",
    "import re\n",
    "from typing import List\n",
    "\n",
    "def browse_stock_from_file(skip_status: str, csv_filepath: str = 'cn_stock.csv', url_template: str = FUND_URL_TEMPLATE) -> None:\n",
    "    \"\"\"\n",
    "    Opens URLs for stock symbols from a CSV file, including only rows with a specified status.\n",
    "\n",
    "    Parameters:\n",
    "    skip_status (str): The status to include (e.g., 'move').\n",
    "    csv_filepath (str): The relative path to the CSV file.\n",
    "    url_template (str): The URL template to use for displaying stock URLs.\n",
    "\n",
    "    Returns:\n",
    "    None\n",
    "    \"\"\"\n",
    "    # Read the CSV file with UTF-8 encoding\n",
    "    with open(csv_filepath, newline='', encoding='utf-8') as csvfile:\n",
    "        reader = csv.reader(csvfile, delimiter=',')\n",
    "        for row in reader:\n",
    "            if len(row) < 2:\n",
    "                continue\n",
    "            if row[0].startswith('#'):\n",
    "                continue\n",
    "\n",
    "            status = row[1].strip().lower()  # Get the status from the second column, case insensitive\n",
    "            if status != skip_status.lower():\n",
    "                continue\n",
    "\n",
    "            # Extract the symbol from the first column\n",
    "            match = re.search(r'\\((\\d+)\\)', row[0])\n",
    "            if match:\n",
    "                symbol = match.group(1)\n",
    "                url = url_template.format(symbol=symbol)\n",
    "                webbrowser.open(url)\n"
   ]
  },
  {
   "cell_type": "markdown",
   "metadata": {},
   "source": [
    "# Move"
   ]
  },
  {
   "cell_type": "code",
   "execution_count": null,
   "metadata": {},
   "outputs": [],
   "source": [
    "# Call the function with the desired status to skip\n",
    "# browse_stock_from_file(skip_status='keep')\n",
    "# browse_stock_from_file(skip_status='MOVE')"
   ]
  },
  {
   "cell_type": "markdown",
   "metadata": {},
   "source": [
    "# Out or move"
   ]
  },
  {
   "cell_type": "code",
   "execution_count": null,
   "metadata": {},
   "outputs": [],
   "source": [
    "# Call the function with the desired status to skip\n",
    "# open_stock_urls(skip_status='out')\n",
    "browse_stock_from_file(skip_status='out', csv_filepath='cn_stock.csv', url_template=CHART_TRADING_VIEW_TEMPLATE)"
   ]
  },
  {
   "cell_type": "code",
   "execution_count": null,
   "metadata": {},
   "outputs": [],
   "source": [
    "import csv\n",
    "import re\n",
    "from IPython.display import IFrame, display\n",
    "from typing import List\n",
    "def get_stock_symbols(skip_status: str, csv_filepath: str = 'cn_stock.csv') -> List[str]:\n",
    "    \"\"\"\n",
    "    Retrieves stock symbols from a CSV file, including only rows with a specified status.\n",
    "\n",
    "    Parameters:\n",
    "    skip_status (str): The status to include (e.g., 'move').\n",
    "    csv_filepath (str): The relative path to the CSV file.\n",
    "\n",
    "    Returns:\n",
    "    List[str]: A list of stock symbols.\n",
    "    \"\"\"\n",
    "    symbols = []\n",
    "    # Read the CSV file with UTF-8 encoding\n",
    "    with open(csv_filepath, newline='', encoding='utf-8') as csvfile:\n",
    "        reader = csv.reader(csvfile, delimiter=',')\n",
    "        for row in reader:\n",
    "            if len(row) < 2:\n",
    "                continue\n",
    "            if row[0].startswith('#'):\n",
    "                continue\n",
    "\n",
    "            status = row[1].strip().lower()  # Get the status from the second column, case insensitive\n",
    "            if status != skip_status.lower():\n",
    "                continue\n",
    "\n",
    "            # Extract the symbol from the first column\n",
    "            match = re.search(r'\\((\\d+)\\)', row[0])\n",
    "            if match:\n",
    "                symbol = match.group(1)\n",
    "                symbols.append(symbol)\n",
    "    return symbols\n",
    "\n",
    "def show_charts_from_list(symbols: List[str], url_template: str = FUND_URL_TEMPLATE, width: int = 1500, height: int = 1000) -> None:\n",
    "    # print list\n",
    "    print(symbols)\n",
    "    \"\"\"\n",
    "    Displays URLs for stock symbols as iframes.\n",
    "\n",
    "    Parameters:\n",
    "    symbols (List[str]): A list of stock symbols.\n",
    "    url_template (str): The URL template to use for displaying stock URLs.\n",
    "    width (int): The width of the iframe. Default is 1500.\n",
    "    height (int): The height of the iframe. Default is 1000.\n",
    "\n",
    "    Returns:\n",
    "    None\n",
    "    \"\"\"\n",
    "    for symbol in symbols:\n",
    "        url = url_template.format(symbol=symbol)\n",
    "        display(IFrame(url, width=width, height=height))\n",
    "\n",
    "# Example usage\n",
    "show_charts_from_list(get_stock_symbols('out', 'cn_stock.csv'), width=1200, height=1200)\n",
    "\n"
   ]
  },
  {
   "cell_type": "code",
   "execution_count": null,
   "metadata": {},
   "outputs": [],
   "source": [
    "show_charts_from_list(get_stock_symbols('keep', 'cn_stock.csv'), width=1200, height=1200)\n"
   ]
  },
  {
   "cell_type": "markdown",
   "metadata": {},
   "source": [
    "# Past one day chart in one"
   ]
  },
  {
   "cell_type": "code",
   "execution_count": null,
   "metadata": {},
   "outputs": [],
   "source": [
    "import csv\n",
    "import re\n",
    "from IPython.display import display, HTML\n",
    "from typing import List\n",
    "\n",
    "# Define the default URL template\n",
    "CHART_CHINA_ONE_DAY_TEMPLATE = 'https://j4.dfcfw.com/charts/pic6/{symbol}.png'\n",
    "\n",
    "def display_stock_images(skip_status: str, csv_filepath: str = 'cn_stock.csv', url_template: str = CHART_CHINA_ONE_DAY_TEMPLATE) -> None:\n",
    "    \"\"\"\n",
    "    Displays URLs for stock symbols from a CSV file as iframes, including only rows with a specified status.\n",
    "\n",
    "    Parameters:\n",
    "    skip_status (str): The status to include (e.g., 'move').\n",
    "    csv_filepath (str): The relative path to the CSV file.\n",
    "    url_template (str): The URL template to use for displaying stock URLs.\n",
    "\n",
    "    Returns:\n",
    "    None\n",
    "    \"\"\"\n",
    "    # Read the CSV file with UTF-8 encoding\n",
    "    with open(csv_filepath, newline='', encoding='utf-8') as csvfile:\n",
    "        reader = csv.reader(csvfile, delimiter=',')\n",
    "        iframes_html = \"\"\n",
    "        for row in reader:\n",
    "            if len(row) < 2:\n",
    "                continue\n",
    "            if row[0].startswith('#'):\n",
    "                continue\n",
    "\n",
    "            status = row[1].strip().lower()  # Get the status from the second column, case insensitive\n",
    "            if status != skip_status.lower():\n",
    "                continue\n",
    "\n",
    "            # Extract the symbol from the first column\n",
    "            match = re.search(r'\\((\\d+)\\)', row[0])\n",
    "            if match:\n",
    "                symbol = match.group(1)\n",
    "                url = url_template.format(symbol=symbol)\n",
    "                iframes_html += f'<iframe src=\"{url}\" width=\"400\" height=\"400\" style=\"border: none; margin: 2px;\"></iframe>'\n",
    "            else:\n",
    "                continue\n",
    "\n",
    "        # Display all iframes in one HTML block\n",
    "        display(HTML(f\"\"\"\n",
    "            <div style=\"display: flex; flex-wrap: wrap; justify-content: center;\">\n",
    "                {iframes_html}\n",
    "            </div>\n",
    "        \"\"\"))\n",
    "\n",
    "# Example usage\n",
    "display_stock_images('keep', 'cn_stock.csv')"
   ]
  },
  {
   "cell_type": "code",
   "execution_count": null,
   "metadata": {},
   "outputs": [],
   "source": [
    "# display_stock_images('move', 'cn_stock.csv')"
   ]
  },
  {
   "cell_type": "code",
   "execution_count": null,
   "metadata": {},
   "outputs": [],
   "source": [
    "US = ['HSI', 'MCHI', 'YINN', 'YANG', 'TSLA', 'SPY', 'AAPL', 'USDCNY', 'AKAM', 'BABA', 'NVDA']\n",
    "CN_1 = ['510210', '000977', '512560']\n"
   ]
  },
  {
   "cell_type": "code",
   "execution_count": null,
   "metadata": {},
   "outputs": [],
   "source": [
    "# create function, given a list of symbols, display the in the broweser\n",
    "\n",
    "def display_chart_in_browser (symbols: List[str], url_template: str = CHART_US_TEMPLATE) -> None:\n",
    "    \"\"\"\n",
    "    Displays URLs for stock symbols in a web browser.\n",
    "\n",
    "    Parameters:\n",
    "    symbols (List[str]): A list of stock symbols.\n",
    "    url_template (str): The URL template to use for displaying stock URLs.\n",
    "\n",
    "    Returns:\n",
    "    None\n",
    "    \"\"\"\n",
    "    print(symbols)\n",
    "    for symbol in symbols:\n",
    "        url = url_template.format(symbol=symbol)\n",
    "        webbrowser.open(url)"
   ]
  },
  {
   "cell_type": "code",
   "execution_count": null,
   "metadata": {},
   "outputs": [],
   "source": [
    "display_chart_in_browser(US, url_template=CHART_TRADING_VIEW_TEMPLATE)"
   ]
  },
  {
   "cell_type": "code",
   "execution_count": null,
   "metadata": {},
   "outputs": [],
   "source": [
    "display_chart_in_browser(CN_1, url_template=CHART_TRADING_VIEW_TEMPLATE)"
   ]
  }
 ],
 "metadata": {
  "kernelspec": {
   "display_name": "ai_4_wk",
   "language": "python",
   "name": "python3"
  },
  "language_info": {
   "codemirror_mode": {
    "name": "ipython",
    "version": 3
   },
   "file_extension": ".py",
   "mimetype": "text/x-python",
   "name": "python",
   "nbconvert_exporter": "python",
   "pygments_lexer": "ipython3",
   "version": "3.13.2"
  }
 },
 "nbformat": 4,
 "nbformat_minor": 2
}
