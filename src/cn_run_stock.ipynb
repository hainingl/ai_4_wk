{
 "cells": [
  {
   "cell_type": "code",
   "execution_count": 15,
   "metadata": {},
   "outputs": [],
   "source": [
    "import csv\n",
    "import webbrowser\n",
    "import os\n",
    "import re\n",
    "from typing import List\n",
    "\n",
    "def open_stock_urls(skip_status: str, csv_filepath: str = 'cn_stock.csv') -> None:\n",
    "    \"\"\"\n",
    "    Opens URLs for stock symbols from a CSV file, skipping rows with a specified status.\n",
    "\n",
    "    Parameters:\n",
    "    skip_status (str): The status to skip (e.g., 'out').\n",
    "    csv_filepath (str): The relative path to the CSV file.\n",
    "\n",
    "    Returns:\n",
    "    None\n",
    "    \"\"\"\n",
    "    # Read the CSV file with UTF-8 encoding\n",
    "    with open(csv_filepath, newline='', encoding='utf-8') as csvfile:\n",
    "        reader = csv.reader(csvfile, delimiter=',')\n",
    "        for row in reader:\n",
    "            if len(row) < 2:\n",
    "                print(f\"Skipping row with insufficient columns: {row}\")\n",
    "                continue\n",
    "\n",
    "            status = row[1].strip()  # Get the status from the second column\n",
    "            if status == skip_status:\n",
    "                print(f\"Skipping row with status '{skip_status}': {row}\")\n",
    "                continue\n",
    "\n",
    "            # Extract the symbol from the first column\n",
    "            match = re.search(r'\\((\\d+)\\)', row[0])\n",
    "            if match:\n",
    "                symbol = match.group(1)\n",
    "                url = f'https://fundf10.eastmoney.com/jdzf_{symbol}.html'\n",
    "                print(f\"Opening URL: {url}\")\n",
    "                webbrowser.open(url)\n",
    "            else:\n",
    "                print(f\"Skipping row with invalid symbol format: {row}\")"
   ]
  },
  {
   "cell_type": "code",
   "execution_count": 6,
   "metadata": {},
   "outputs": [
    {
     "name": "stdout",
     "output_type": "stream",
     "text": [
      "| 国投瑞银新丝路混合(LOF) (161224)   |  out   |\n",
      "|:-----------------------------------|:-------|\n",
      "| 泓德丰泽混合(LOF) (501071)         | ok     |\n",
      "| 工银物流产业股票A (001718)         | ok     |\n",
      "| 国投瑞银新丝路混合(LOF) (161224)   |  out   |\n",
      "|:-----------------------------------|:-------|\n",
      "| 大成高鑫股票C(011066)              | keep   |\n",
      "| 大成高鑫股票A(000628)              | keep   |\n",
      "| 中信建投精选混合C(007469)          | keep   |\n",
      "| 易方达标普500指数人民币A(161125)   | keep   |\n"
     ]
    }
   ],
   "source": [
    "import pandas as pd\n",
    "from typing import Optional\n",
    "\n",
    "def display_csv_content(csv_filepath: str, filter_string: Optional[str] = 'ok', num_rows: int = 10) -> pd.DataFrame:\n",
    "    \"\"\"\n",
    "    Displays the content of a CSV file as a Markdown table, optionally filtering by a string in the second column.\n",
    "\n",
    "    Parameters:\n",
    "    csv_filepath (str): The relative path to the CSV file.\n",
    "    filter_string (Optional[str]): The string to filter by in the second column. If None, show all rows.\n",
    "    num_rows (int): The number of rows to display in the Markdown table.\n",
    "\n",
    "    Returns:\n",
    "    pd.DataFrame: The content of the CSV file as a DataFrame.\n",
    "    \"\"\"\n",
    "    # Read the CSV file with UTF-8 encoding, skipping bad lines\n",
    "    df = pd.read_csv(csv_filepath, encoding='utf-8', on_bad_lines='skip')\n",
    "    \n",
    "    # Filter the DataFrame if filter_string is provided\n",
    "    if filter_string is not None:\n",
    "        df = df[df.iloc[:, 1].str.strip() == filter_string]\n",
    "    \n",
    "    # Display the content as a Markdown table\n",
    "    print(df.head(num_rows).to_markdown(index=False))\n",
    "    \n",
    "    return df\n",
    "# Display the content of the CSV file with the default filter 'ok'\n",
    "csv_content = display_csv_content('cn_stock.csv')\n",
    "\n",
    "# Display the content of the CSV file with a custom filter\n",
    "csv_content = display_csv_content('cn_stock.csv', filter_string='keep')"
   ]
  },
  {
   "cell_type": "code",
   "execution_count": 8,
   "metadata": {},
   "outputs": [
    {
     "name": "stdout",
     "output_type": "stream",
     "text": [
      "| 国投瑞银新丝路混合(LOF) (161224)   |  out   |\n",
      "|:-----------------------------------|:-------|\n",
      "| 泓德丰泽混合(LOF) (501071)         | ok     |\n",
      "| 华夏恒益18个月定开债券 (007591)    | out?   |\n",
      "| 博时战略新兴产业混合 (004677)      | out    |\n",
      "| 景顺长城集英两年定开混合 (006345)  | out??  |\n",
      "| 睿远成长价值混合A (007119)         | out    |\n",
      "| 易方达国防军工混合A (001475)       | out    |\n",
      "| 工银物流产业股票A (001718)         | ok     |\n",
      "| 国投瑞银新丝路混合(LOF) (161224)   | adj    |\n",
      "| 易方达高质量严选三年持有 (010340)  | out    |\n",
      "| 大成高鑫股票C(011066)              | keep   |\n"
     ]
    }
   ],
   "source": [
    "# Display the content of the CSV file without any filter\n",
    "csv_content = display_csv_content('cn_stock.csv', filter_string=None)"
   ]
  },
  {
   "cell_type": "code",
   "execution_count": 16,
   "metadata": {},
   "outputs": [
    {
     "name": "stdout",
     "output_type": "stream",
     "text": [
      "Skipping row with status 'out': ['国投瑞银新丝路混合(LOF) (161224)', ' out']\n",
      "Opening URL: https://fundf10.eastmoney.com/jdzf_501071.html\n",
      "Skipping row with status 'out': ['华夏恒益18个月定开债券 (007591)', ' out']\n",
      "Opening URL: https://fundf10.eastmoney.com/jdzf_530014.html\n",
      "Skipping row with status 'out': ['博时战略新兴产业混合 (004677)', ' out']\n",
      "Skipping row with status 'out': ['景顺长城集英两年定开混合 (006345)', ' out']\n",
      "Skipping row with status 'out': ['睿远成长价值混合A (007119)', ' out']\n",
      "Skipping row with insufficient columns: []\n",
      "Skipping row with status 'out': ['易方达国防军工混合A (001475)', ' out']\n",
      "Opening URL: https://fundf10.eastmoney.com/jdzf_001718.html\n",
      "Opening URL: https://fundf10.eastmoney.com/jdzf_161224.html\n",
      "Skipping row with status 'out': ['易方达高质量严选三年持有 (010340)', ' out']\n",
      "Skipping row with insufficient columns: []\n",
      "Opening URL: https://fundf10.eastmoney.com/jdzf_011066.html\n",
      "Opening URL: https://fundf10.eastmoney.com/jdzf_000628.html\n",
      "Opening URL: https://fundf10.eastmoney.com/jdzf_007469.html\n",
      "Opening URL: https://fundf10.eastmoney.com/jdzf_161125.html\n",
      "Skipping row with status 'out': ['国投瑞银中证500指数量化增强A(005994)', ' out']\n",
      "Skipping row with insufficient columns: []\n",
      "Skipping row with insufficient columns: ['#TT']\n",
      "Opening URL: https://fundf10.eastmoney.com/jdzf_017559.html\n",
      "Opening URL: https://fundf10.eastmoney.com/jdzf_005052.html\n",
      "Opening URL: https://fundf10.eastmoney.com/jdzf_017102.html\n",
      "Opening URL: https://fundf10.eastmoney.com/jdzf_270023.html\n",
      "Opening URL: https://fundf10.eastmoney.com/jdzf_486002.html\n"
     ]
    }
   ],
   "source": [
    "# Import the function from the module if it's saved in a separate file\n",
    "# from your_module import open_stock_urls\n",
    "\n",
    "# Call the function with the desired status to skip\n",
    "open_stock_urls(skip_status='out')"
   ]
  }
 ],
 "metadata": {
  "kernelspec": {
   "display_name": "Python 3",
   "language": "python",
   "name": "python3"
  },
  "language_info": {
   "codemirror_mode": {
    "name": "ipython",
    "version": 3
   },
   "file_extension": ".py",
   "mimetype": "text/x-python",
   "name": "python",
   "nbconvert_exporter": "python",
   "pygments_lexer": "ipython3",
   "version": "3.9.6"
  }
 },
 "nbformat": 4,
 "nbformat_minor": 2
}
