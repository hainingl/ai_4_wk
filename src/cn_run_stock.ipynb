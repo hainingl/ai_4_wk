{
 "cells": [
  {
   "cell_type": "code",
   "execution_count": null,
   "metadata": {},
   "outputs": [],
   "source": [
    "import csv\n",
    "import webbrowser\n",
    "import os\n",
    "import re\n",
    "from typing import List\n",
    "\n",
    "def open_stock_urls(skip_status: str, csv_filepath: str = 'cn_stock.csv') -> None:\n",
    "    \"\"\"\n",
    "    Opens URLs for stock symbols from a CSV file, including only rows with a specified status.\n",
    "\n",
    "    Parameters:\n",
    "    skip_status (str): The status to include (e.g., 'move').\n",
    "    csv_filepath (str): The relative path to the CSV file.\n",
    "\n",
    "    Returns:\n",
    "    None\n",
    "    \"\"\"\n",
    "    # Read the CSV file with UTF-8 encoding\n",
    "    with open(csv_filepath, newline='', encoding='utf-8') as csvfile:\n",
    "        reader = csv.reader(csvfile, delimiter=',')\n",
    "        for row in reader:\n",
    "            if len(row) < 2:\n",
    "                print(f\"Skipping row with insufficient columns: {row}\")\n",
    "                continue\n",
    "\n",
    "            status = row[1].strip().lower()  # Get the status from the second column, case insensitive\n",
    "            if status != skip_status.lower():\n",
    "                print(f\"Skipping row with status '{status}': {row}\")\n",
    "                continue\n",
    "\n",
    "            # Extract the symbol from the first column\n",
    "            match = re.search(r'\\((\\d+)\\)', row[0])\n",
    "            if match:\n",
    "                symbol = match.group(1)\n",
    "                url = f'https://fundf10.eastmoney.com/jdzf_{symbol}.html'\n",
    "                print(f\"Opening URL: {url}\")\n",
    "                webbrowser.open(url)\n",
    "            else:\n",
    "                print(f\"Skipping row with invalid symbol format: {row}\")\n"
   ]
  },
  {
   "cell_type": "code",
   "execution_count": null,
   "metadata": {},
   "outputs": [],
   "source": [
    "# Call the function with the desired status to skip\n",
    "open_stock_urls(skip_status='MOVE')"
   ]
  },
  {
   "cell_type": "code",
   "execution_count": null,
   "metadata": {},
   "outputs": [],
   "source": [
    "# Display the content of the CSV file without any filter\n",
    "# csv_content = display_csv_content('cn_stock.csv', filter_string=None)"
   ]
  },
  {
   "cell_type": "code",
   "execution_count": null,
   "metadata": {},
   "outputs": [],
   "source": [
    "import pandas as pd\n",
    "from typing import Optional\n",
    "\n",
    "def display_csv_content(csv_filepath: str, filter_string: Optional[str] = 'ok', num_rows: int = 10) -> pd.DataFrame:\n",
    "    \"\"\"\n",
    "    Displays the content of a CSV file as a Markdown table, optionally filtering by a string in the second column.\n",
    "\n",
    "    Parameters:\n",
    "    csv_filepath (str): The relative path to the CSV file.\n",
    "    filter_string (Optional[str]): The string to filter by in the second column. If None, show all rows.\n",
    "    num_rows (int): The number of rows to display in the Markdown table.\n",
    "\n",
    "    Returns:\n",
    "    pd.DataFrame: The content of the CSV file as a DataFrame.\n",
    "    \"\"\"\n",
    "    # Read the CSV file with UTF-8 encoding, skipping bad lines\n",
    "    df = pd.read_csv(csv_filepath, encoding='utf-8', on_bad_lines='skip')\n",
    "    \n",
    "    # Ensure the DataFrame has at least two columns before filtering\n",
    "    if df.shape[1] >= 2:\n",
    "        # Filter the DataFrame if filter_string is provided\n",
    "        if filter_string is not None:\n",
    "            df = df[df.iloc[:, 1].str.strip().str.lower() == filter_string.strip().lower()]\n",
    "    \n",
    "    # Display the content as a Markdown table\n",
    "    print(df.head(num_rows).to_markdown(index=False))\n",
    "    \n",
    "    return df\n",
    "\n",
    "# Display the content of the CSV file with the default filter 'ok'\n",
    "try:\n",
    "    csv_content = display_csv_content('cn_stock.csv')\n",
    "except pd.errors.ParserError as e:\n",
    "    print(f\"Error parsing CSV file: {e}\")\n",
    "\n",
    "# Display the content of the CSV file with a custom filter\n",
    "# csv_content = display_csv_content('cn_stock.csv', filter_string='move')"
   ]
  }
 ],
 "metadata": {
  "kernelspec": {
   "display_name": "Python 3",
   "language": "python",
   "name": "python3"
  },
  "language_info": {
   "codemirror_mode": {
    "name": "ipython",
    "version": 3
   },
   "file_extension": ".py",
   "mimetype": "text/x-python",
   "name": "python",
   "nbconvert_exporter": "python",
   "pygments_lexer": "ipython3",
   "version": "3.9.6"
  }
 },
 "nbformat": 4,
 "nbformat_minor": 2
}
