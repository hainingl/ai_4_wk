{
 "cells": [
  {
   "cell_type": "markdown",
   "metadata": {},
   "source": [
    "# Note\n",
    "\n",
    "- Current market trend\n",
    "- Screen a few \n",
    "- Closer examine, 5,30, 1H, 1D \n",
    "- Closer look with PPO, Fixed start"
   ]
  },
  {
   "cell_type": "markdown",
   "metadata": {},
   "source": [
    "# Stock ETF Focus on 515230, and 159819 only, recent up 512810 "
   ]
  },
  {
   "cell_type": "markdown",
   "metadata": {},
   "source": [
    "## Holding info"
   ]
  },
  {
   "cell_type": "code",
   "execution_count": null,
   "metadata": {},
   "outputs": [],
   "source": [
    "# Example usage\n",
    "HOLDING_WITH_COMMENT = \"\"\"\n",
    "002484, HD=buy, https://cn.tradingview.com/chart/a9Nogpus/ \n",
    "002709 https://cn.tradingview.com/chart/ezkzlG7W/?symbol=002709, HD=sell, 30=buy, 3/10, SELL !\n",
    "https://cn.tradingview.com/chart/ezkzlG7W/?symbol=159819, 5/30=buy, HD=sell, ETF\n",
    "https://cn.tradingview.com/chart/ezkzlG7W/?symbol=512480, m=buy, HD=hold, ETF \n",
    "https://cn.tradingview.com/chart/vZjXf8fw/?symbol=000725&interval=1H, HD=no action, \n",
    "https://cn.tradingview.com/chart/ezkzlG7W/?symbol=002709, HD=hold, m=buy\n",
    "\n",
    "https://cn.tradingview.com/chart/ezkzlG7W/?symbol=399967 5=buy, HD=hold\n",
    "https://cn.tradingview.com/chart/ezkzlG7W/?symbol=510210, hD=hold, 5=buy, ETF\n",
    "\"\"\""
   ]
  },
  {
   "cell_type": "markdown",
   "metadata": {},
   "source": [
    "## Util function"
   ]
  },
  {
   "cell_type": "code",
   "execution_count": null,
   "metadata": {},
   "outputs": [],
   "source": [
    "from datetime import datetime\n",
    "import re\n",
    "from IPython.core.display import display, HTML\n",
    "import re\n",
    "from typing import List\n",
    "\n",
    "def extract_stock_symbols(text: str, stock_type: str = None) -> List[str]:\n",
    "    \"\"\"\n",
    "    Extracts all distinct 6-digit stock symbols from the given text.\n",
    "    If stock_type is 'ETF', filters out rows containing 'ETF'.\n",
    "\n",
    "    Parameters:\n",
    "    text (str): The input text containing stock symbols.\n",
    "    stock_type (str): The type of stock to filter (default is None).\n",
    "\n",
    "    Returns:\n",
    "    List[str]: A list of distinct 6-digit stock symbols.\n",
    "    \"\"\"\n",
    "    # Split the text into lines\n",
    "    lines = text.strip().split('\\n')\n",
    "    \n",
    "    # Filter lines based on stock_type\n",
    "    if stock_type == 'ETF':\n",
    "        lines = [line for line in lines if 'ETF' not in line]\n",
    "    \n",
    "    # Use regular expression to find all 6-digit numbers\n",
    "    symbols = []\n",
    "    for line in lines:\n",
    "        symbols.extend(re.findall(r'\\b\\d{6}\\b', line))\n",
    "    \n",
    "    # Remove duplicates by converting the list to a set and then back to a list\n",
    "    distinct_symbols = list(set(symbols))\n",
    "    \n",
    "    return distinct_symbols\n",
    "\n",
    "def extract_stock_info(text: str, stock_type: str = None) -> list:\n",
    "    \"\"\"\n",
    "    Extracts stock symbol and metadata from each line, excluding links.\n",
    "    If stock_type is defined, filters out rows containing that string.\n",
    "\n",
    "    Parameters:\n",
    "    text (str): The input text containing stock symbols and metadata.\n",
    "    stock_type (str): The type of stock to filter (default is None).\n",
    "\n",
    "    Returns:\n",
    "    list: A list of strings, each containing the stock symbol and its metadata.\n",
    "    \"\"\"\n",
    "    # Split the text into lines\n",
    "    lines = text.strip().split('\\n')\n",
    "    \n",
    "    # Filter lines based on stock_type\n",
    "    if stock_type:\n",
    "        lines = [line for line in lines if stock_type in line]\n",
    "    \n",
    "    # Process each line\n",
    "    stock_info = []\n",
    "    for line in lines:\n",
    "        # Extract the 6-digit stock symbol from the URL (if present)\n",
    "        symbol_match = re.search(r'symbol=(\\d{6})', line)\n",
    "        if symbol_match:\n",
    "            symbol = symbol_match.group(1)\n",
    "            # Remove the URL and extract the metadata\n",
    "            metadata = re.sub(r'https?://\\S+', '', line)  # Remove the URL\n",
    "            metadata = re.sub(r'symbol=\\d{6}', '', metadata)  # Remove the symbol part from the URL\n",
    "            metadata = metadata.strip().strip(',')  # Clean up whitespace and commas\n",
    "            # Highlight 'buy' and 'sell' in the metadata\n",
    "            metadata = re.sub(r'\\bbuy\\b', r'<b style=\"font-size:large;color:black;\">buy</b>', metadata, flags=re.IGNORECASE)\n",
    "            metadata = re.sub(r'\\bsell\\b', r'<span style=\"color:red;\">sell</span>', metadata, flags=re.IGNORECASE)\n",
    "            # Combine the symbol and metadata\n",
    "            stock_info.append(f\"{symbol}, {metadata}\")\n",
    "        else:\n",
    "            # If no URL is found, keep the line as is (excluding any links)\n",
    "            cleaned_line = re.sub(r'https?://\\S+', '', line)\n",
    "            cleaned_line = cleaned_line.strip().strip(',')\n",
    "            if cleaned_line:\n",
    "                # Highlight 'buy' and 'sell' in the cleaned line\n",
    "                cleaned_line = re.sub(r'\\bbuy\\b', r'<b style=\"font-size:large;color:black;\">buy</b>', cleaned_line, flags=re.IGNORECASE)\n",
    "                cleaned_line = re.sub(r'\\bsell\\b', r'<span style=\"color:red;\">sell</span>', cleaned_line, flags=re.IGNORECASE)\n",
    "                stock_info.append(cleaned_line)\n",
    "    return stock_info\n",
    "\n",
    "def print_symbols_in_html(text: str, stock_type: str = None) -> None:\n",
    "    \"\"\"\n",
    "    Prints the list of stock symbols and metadata in HTML format with today's date and displays it inside the notebook.\n",
    "    If stock_type is defined, filters out rows containing that string.\n",
    "\n",
    "    Parameters:\n",
    "    text (str): The input text containing stock symbols and metadata.\n",
    "    stock_type (str): The type of stock to filter (default is None).\n",
    "\n",
    "    Returns:\n",
    "    None\n",
    "    \"\"\"\n",
    "    # Get today's date\n",
    "    today_date = datetime.now().strftime(\"%Y-%m-%d\")\n",
    "    \n",
    "    # Extract stock info\n",
    "    stock_info = extract_stock_info(text, stock_type)\n",
    "    \n",
    "    # Create HTML content\n",
    "    html_content = f\"<h1>Stock Symbols Report - {today_date}</h1><ul>\"\n",
    "    for info in stock_info:\n",
    "        html_content += f\"<li>{info}</li>\"\n",
    "    html_content += \"</ul>\"\n",
    "    \n",
    "    # Display HTML content in the notebook\n",
    "    display(HTML(html_content))\n",
    "\n",
    "\n"
   ]
  },
  {
   "cell_type": "code",
   "execution_count": null,
   "metadata": {},
   "outputs": [],
   "source": [
    "# extract_stock_symbols(HOLDING_WITH_COMMENT)"
   ]
  },
  {
   "cell_type": "markdown",
   "metadata": {},
   "source": [
    "## ETF only"
   ]
  },
  {
   "cell_type": "code",
   "execution_count": null,
   "metadata": {},
   "outputs": [],
   "source": [
    "print_symbols_in_html(HOLDING_WITH_COMMENT, stock_type='ETF')"
   ]
  },
  {
   "cell_type": "markdown",
   "metadata": {},
   "source": [
    "## All"
   ]
  },
  {
   "cell_type": "code",
   "execution_count": null,
   "metadata": {},
   "outputs": [],
   "source": [
    "print_symbols_in_html(HOLDING_WITH_COMMENT)"
   ]
  },
  {
   "cell_type": "code",
   "execution_count": null,
   "metadata": {},
   "outputs": [],
   "source": [
    "import pprint\n",
    "from utils import LAYOUTS, get_layout_by_name\n",
    "from utils import create_top_trending_stocks_dict\n",
    "from utils import get_top_trending_stocks, display_chart_in_browser, display_charts_from_dict, show_stock_by_algo, DAILY_BUYING_SCREEN_TEMPLATE\n",
    "pprint.pprint(LAYOUTS)"
   ]
  },
  {
   "cell_type": "markdown",
   "metadata": {},
   "source": [
    "# Holding and candidate"
   ]
  },
  {
   "cell_type": "code",
   "execution_count": null,
   "metadata": {},
   "outputs": [],
   "source": [
    "# HOLDING=['002484', '002709', '512480', \"159819\"]\n",
    "HOLDING = list(set(extract_stock_symbols(HOLDING_WITH_COMMENT)))\n",
    "print(HOLDING)"
   ]
  },
  {
   "cell_type": "code",
   "execution_count": null,
   "metadata": {},
   "outputs": [],
   "source": [
    "SECTOR = \"\"\"https://www.tradingview.com/markets/stocks-china/sectorandindustry-industry/\"\"\""
   ]
  },
  {
   "cell_type": "code",
   "execution_count": null,
   "metadata": {},
   "outputs": [],
   "source": [
    "# # Example usage\n",
    "from utils import display_tradingview_iframes\n",
    "\n",
    "# display_tradingview_iframes(HOLDING, 'w')\n",
    "display_tradingview_iframes(HOLDING,'D')\n"
   ]
  },
  {
   "cell_type": "code",
   "execution_count": null,
   "metadata": {},
   "outputs": [],
   "source": [
    "stock = \"159819\"\n",
    "\n",
    "extract_stock_info(HOLDING_WITH_COMMENT, stock_type=stock)"
   ]
  },
  {
   "cell_type": "markdown",
   "metadata": {},
   "source": [
    "# One stock, multi-screens\n"
   ]
  },
  {
   "cell_type": "code",
   "execution_count": null,
   "metadata": {},
   "outputs": [],
   "source": [
    "# One stock, multi-screens\n",
    "show_stock_by_algo(stock=stock, layout_name=None)"
   ]
  },
  {
   "cell_type": "markdown",
   "metadata": {},
   "source": [
    "# Holding Performace"
   ]
  },
  {
   "cell_type": "code",
   "execution_count": null,
   "metadata": {},
   "outputs": [],
   "source": [
    "display_charts_from_dict(create_top_trending_stocks_dict(HOLDING), layout='https://cn.tradingview.com/chart/UDIr7fMu/?symbol={symbol}&interval={interval}')"
   ]
  },
  {
   "cell_type": "markdown",
   "metadata": {},
   "source": [
    "# Closer reviews"
   ]
  },
  {
   "cell_type": "code",
   "execution_count": null,
   "metadata": {},
   "outputs": [],
   "source": [
    "stock='510210'\n",
    "display_chart_in_browser([stock], url_template=DAILY_BUYING_SCREEN_TEMPLATE)"
   ]
  },
  {
   "cell_type": "markdown",
   "metadata": {},
   "source": [
    "# Suite "
   ]
  },
  {
   "cell_type": "code",
   "execution_count": null,
   "metadata": {},
   "outputs": [],
   "source": [
    "from utils import SYMBOL_INTERVAL_SCREEN_TEMPLATE\n",
    "\n",
    "def group_display_stock_charts(stock: str, url_template: str = SYMBOL_INTERVAL_SCREEN_TEMPLATE) -> None:\n",
    "    \"\"\"\n",
    "    Displays the stock charts for the given stock symbol with different intervals.\n",
    "\n",
    "    Parameters:\n",
    "    stock (str): The stock symbol to display charts for.\n",
    "    url_template (str): The URL template to use for displaying charts.\n",
    "\n",
    "    Returns:\n",
    "    None\n",
    "    \"\"\"\n",
    "    display_chart_in_browser([stock], url_template=url_template.format(symbol=stock, interval='10'))\n",
    "    display_chart_in_browser([stock], url_template=url_template.format(symbol=stock, interval='1H'))\n",
    "    display_chart_in_browser([stock], url_template=url_template.format(symbol=stock, interval='1D'))\n",
    "\n",
    "# Example usage\n",
    "stock = '002709'\n",
    "group_display_stock_charts(stock)"
   ]
  }
 ],
 "metadata": {
  "kernelspec": {
   "display_name": "ai_4_wk",
   "language": "python",
   "name": "python3"
  },
  "language_info": {
   "codemirror_mode": {
    "name": "ipython",
    "version": 3
   },
   "file_extension": ".py",
   "mimetype": "text/x-python",
   "name": "python",
   "nbconvert_exporter": "python",
   "pygments_lexer": "ipython3",
   "version": "3.13.2"
  }
 },
 "nbformat": 4,
 "nbformat_minor": 2
}
