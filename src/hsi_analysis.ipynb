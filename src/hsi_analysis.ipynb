{
 "cells": [
  {
   "cell_type": "code",
   "execution_count": null,
   "metadata": {},
   "outputs": [],
   "source": [
    "# pip install matplotlib"
   ]
  },
  {
   "cell_type": "code",
   "execution_count": null,
   "metadata": {},
   "outputs": [],
   "source": [
    "import pandas as pd\n",
    "import matplotlib.pyplot as plt"
   ]
  },
  {
   "cell_type": "code",
   "execution_count": null,
   "metadata": {},
   "outputs": [],
   "source": [
    "import pandas as pd\n",
    "import matplotlib.pyplot as plt\n",
    "import os\n",
    "\n",
    "def analyze_stock(ticker: str, start_year: str, selected_year: str = None):\n",
    "    \"\"\"\n",
    "    Analyzes stock data for a given ticker and start year.\n",
    "\n",
    "    Parameters:\n",
    "    ticker (str): The stock ticker symbol.\n",
    "    start_year (str): The start year for the analysis.\n",
    "    selected_year (str): The year from which to start the analysis. If None, analyze all data.\n",
    "\n",
    "    Returns:\n",
    "    None\n",
    "    \"\"\"\n",
    "    # Load the CSV file, skipping the first 3 rows\n",
    "    csv_filepath = f'../data/{ticker}_{start_year}.csv'\n",
    "    df = pd.read_csv(csv_filepath, skiprows=3)\n",
    "\n",
    "    # Manually set column names since the header is skipped\n",
    "    df.columns = ['Date', 'Close', 'High', 'Low', 'Open', 'Volume']\n",
    "\n",
    "    # Select only the 'Date' and 'Close' columns\n",
    "    df = df[['Date', 'Close']]\n",
    "\n",
    "    # Parse dates from the 'Date' column\n",
    "    df['Date'] = pd.to_datetime(df['Date'])\n",
    "\n",
    "    # Filter the DataFrame if selected_year is provided\n",
    "    if selected_year is not None:\n",
    "        df = df[df['Date'].dt.year >= int(selected_year)]\n",
    "\n",
    "    # Set 'Date' as the index\n",
    "    df.set_index('Date', inplace=True)\n",
    "\n",
    "    # Calculate daily percentage changes for Close prices\n",
    "    df['Pct_Change'] = df['Close'].pct_change() * 100\n",
    "    df['Pct_Change'] = df['Pct_Change'].round(2)  # Round to two decimal places\n",
    "\n",
    "    # Plot the Close Price\n",
    "    plt.figure(figsize=(12, 6))\n",
    "    plt.plot(df.index, df['Close'], label='Close Price')\n",
    "    plt.xlabel('Date')\n",
    "    plt.ylabel('Close Price')\n",
    "    plt.title(f'{ticker} Close Price Over Time')\n",
    "    plt.legend()\n",
    "    plt.grid(True)\n",
    "    plt.show()\n",
    "\n",
    "    # Plot the Percentage Change\n",
    "    plt.figure(figsize=(12, 6))\n",
    "    plt.plot(df.index, df['Pct_Change'], label='Percentage Change', color='orange')\n",
    "    plt.xlabel('Date')\n",
    "    plt.ylabel('Percentage Change')\n",
    "    plt.title(f'{ticker} Percentage Change Over Time')\n",
    "    plt.legend()\n",
    "    plt.grid(True)\n",
    "    plt.show()\n",
    "\n",
    "    # Save results to new CSV in the '../data' folder\n",
    "    output_folder = '../data'\n",
    "    os.makedirs(output_folder, exist_ok=True)\n",
    "    output_filepath = os.path.join(output_folder, f'{ticker}_analysis_results.csv')\n",
    "    df.to_csv(output_filepath)\n",
    "\n",
    "    print(f\"Analysis complete. Results saved to {output_filepath}\")\n",
    "\n",
    "# Example usage\n",
    "analyze_stock('MCHI', '2023', '2024')"
   ]
  },
  {
   "cell_type": "code",
   "execution_count": null,
   "metadata": {},
   "outputs": [],
   "source": [
    "# Example usage\n",
    "analyze_stock('^HSI', '2023', '2024')"
   ]
  },
  {
   "cell_type": "code",
   "execution_count": null,
   "metadata": {},
   "outputs": [],
   "source": [
    "# Example usage\n",
    "analyze_stock('YINN', '2023', '2024')"
   ]
  },
  {
   "cell_type": "code",
   "execution_count": null,
   "metadata": {},
   "outputs": [],
   "source": [
    "# Load the results CSV files\n",
    "df1 = pd.read_csv('../data/MCHI_analysis_results.csv', parse_dates=['Date'], index_col='Date')\n",
    "df2 = pd.read_csv('../data/^HSI_analysis_results.csv', parse_dates=['Date'], index_col='Date')\n",
    "\n",
    "# Merge the two DataFrames on the 'Date' index\n",
    "merged_df = df1[['Pct_Change']].merge(df2[['Pct_Change']], left_index=True, right_index=True, suffixes=('_MCHI', '_HSI'))\n",
    "\n",
    "START_DATE = '2023-09-24'\n",
    "# START_DATE = '2024-09-24'\n",
    "# START_DATE = '2025-01-01'\n",
    "\n",
    "# Filter the merged DataFrame to include only dates after START_DATE\n",
    "merged_df = merged_df[merged_df.index >= START_DATE]\n",
    "\n",
    "# reverse order on date\n",
    "merged_df = merged_df.sort_index(ascending=False)\n",
    "\n",
    "# Find rows where the product of Pct_Change is negative\n",
    "negative_product_df = merged_df[(merged_df['Pct_Change_MCHI'] * merged_df['Pct_Change_HSI']) < 0]\n",
    "\n",
    "# Find rows where the product of Pct_Change is non-negative\n",
    "non_negative_product_df = merged_df[(merged_df['Pct_Change_MCHI'] * merged_df['Pct_Change_HSI']) >= 0]\n"
   ]
  },
  {
   "cell_type": "code",
   "execution_count": null,
   "metadata": {},
   "outputs": [],
   "source": [
    "\n",
    "# Print the rows\n",
    "print(negative_product_df)"
   ]
  },
  {
   "cell_type": "code",
   "execution_count": null,
   "metadata": {},
   "outputs": [],
   "source": [
    "# print START_DATE\n",
    "print(START_DATE)\n",
    "# print len of negative_product_df\n",
    "len(negative_product_df)/ len(merged_df) * 100"
   ]
  },
  {
   "cell_type": "code",
   "execution_count": null,
   "metadata": {},
   "outputs": [],
   "source": [
    "\n",
    "\n",
    "# Print the rows\n",
    "print(non_negative_product_df)"
   ]
  },
  {
   "cell_type": "code",
   "execution_count": null,
   "metadata": {},
   "outputs": [],
   "source": [
    "# print len of non_negative_product_df\n",
    "len(non_negative_product_df)    "
   ]
  },
  {
   "cell_type": "code",
   "execution_count": null,
   "metadata": {},
   "outputs": [],
   "source": []
  }
 ],
 "metadata": {
  "kernelspec": {
   "display_name": "venv",
   "language": "python",
   "name": "python3"
  },
  "language_info": {
   "codemirror_mode": {
    "name": "ipython",
    "version": 3
   },
   "file_extension": ".py",
   "mimetype": "text/x-python",
   "name": "python",
   "nbconvert_exporter": "python",
   "pygments_lexer": "ipython3",
   "version": "3.13.2"
  }
 },
 "nbformat": 4,
 "nbformat_minor": 2
}
