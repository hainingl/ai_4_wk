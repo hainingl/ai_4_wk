{
 "cells": [
  {
   "cell_type": "code",
   "execution_count": null,
   "metadata": {},
   "outputs": [],
   "source": [
    "import pandas as pd\n",
    "import matplotlib.pyplot as plt\n",
    "import os"
   ]
  },
  {
   "cell_type": "markdown",
   "metadata": {},
   "source": [
    "# Analysis based on downloaed data in ../data folder"
   ]
  },
  {
   "cell_type": "code",
   "execution_count": null,
   "metadata": {},
   "outputs": [],
   "source": [
    "\n",
    "\n",
    "def analyze_stock(ticker: str, start_year: str, selected_year: str = None):\n",
    "    \"\"\"\n",
    "    Analyzes stock data for a given ticker and start year.\n",
    "\n",
    "    Parameters:\n",
    "    ticker (str): The stock ticker symbol.\n",
    "    start_year (str): The start year for the analysis.\n",
    "    selected_year (str): The year from which to start the analysis. If None, analyze all data.\n",
    "\n",
    "    Returns:\n",
    "    None\n",
    "    \"\"\"\n",
    "    # Load the CSV file, skipping the first 3 rows\n",
    "    csv_filepath = f'../data/{ticker}_{start_year}.csv'\n",
    "    df = pd.read_csv(csv_filepath, skiprows=3)\n",
    "\n",
    "    # Manually set column names since the header is skipped\n",
    "    df.columns = ['Date', 'Close', 'High', 'Low', 'Open', 'Volume']\n",
    "\n",
    "    # Select only the 'Date' and 'Close' columns\n",
    "    df = df[['Date', 'Close']]\n",
    "\n",
    "    # Parse dates from the 'Date' column\n",
    "    df['Date'] = pd.to_datetime(df['Date'])\n",
    "\n",
    "    # Filter the DataFrame if selected_year is provided\n",
    "    if selected_year is not None:\n",
    "        df = df[df['Date'].dt.year >= int(selected_year)]\n",
    "\n",
    "    # Set 'Date' as the index\n",
    "    df.set_index('Date', inplace=True)\n",
    "\n",
    "    # Calculate daily percentage changes for Close prices\n",
    "    df['Pct_Change'] = df['Close'].pct_change() * 100\n",
    "    df['Pct_Change'] = df['Pct_Change'].round(2)  # Round to two decimal places\n",
    "\n",
    "    # print size of df\n",
    "    print(f\"Dataframe size: {df.shape}\")\n",
    "\n",
    "    # Plot the Close Price\n",
    "    plt.figure(figsize=(12, 6))\n",
    "    plt.plot(df.index, df['Close'], label='Close Price')\n",
    "    plt.xlabel('Date')\n",
    "    plt.ylabel('Close Price')\n",
    "    plt.title(f'{ticker} Close Price Over Time')\n",
    "    plt.legend()\n",
    "    plt.grid(True)\n",
    "    plt.show()\n",
    "\n",
    "    # Plot the Percentage Change\n",
    "    plt.figure(figsize=(12, 6))\n",
    "    plt.plot(df.index, df['Pct_Change'], label='Percentage Change', color='orange')\n",
    "    plt.xlabel('Date')\n",
    "    plt.ylabel('Percentage Change')\n",
    "    plt.title(f'{ticker} Percentage Change Over Time')\n",
    "    plt.legend()\n",
    "    plt.grid(True)\n",
    "    plt.show()\n",
    "\n",
    "    # Save results to new CSV in the '../data' folder\n",
    "    output_folder = '../data'\n",
    "    os.makedirs(output_folder, exist_ok=True)\n",
    "    output_filepath = os.path.join(output_folder, f'{ticker}_analysis_results.csv')\n",
    "    df.to_csv(output_filepath)\n",
    "\n",
    "    print(f\"Analysis complete. Results saved to {output_filepath}\")\n",
    "\n",
    "# Example usage\n",
    "analyze_stock('MCHI', '2023', '2024')"
   ]
  },
  {
   "cell_type": "code",
   "execution_count": null,
   "metadata": {},
   "outputs": [],
   "source": [
    "# Example usage\n",
    "analyze_stock('^HSI', '2023', '2024')"
   ]
  },
  {
   "cell_type": "code",
   "execution_count": null,
   "metadata": {},
   "outputs": [],
   "source": [
    "# Example usage\n",
    "analyze_stock('YINN', '2023', '2024')"
   ]
  },
  {
   "cell_type": "markdown",
   "metadata": {},
   "source": [
    "# Load data with pct_change and merge them"
   ]
  },
  {
   "cell_type": "code",
   "execution_count": null,
   "metadata": {},
   "outputs": [],
   "source": [
    "# Load the results CSV files\n",
    "df1 = pd.read_csv('../data/MCHI_analysis_results.csv', parse_dates=['Date'], index_col='Date')\n",
    "df2 = pd.read_csv('../data/^HSI_analysis_results.csv', parse_dates=['Date'], index_col='Date')\n",
    "\n",
    "# Merge the two DataFrames on the 'Date' index\n",
    "merged_df = df1[['Pct_Change']].merge(df2[['Pct_Change']], left_index=True, right_index=True, suffixes=('_MCHI', '_HSI'))\n",
    "\n",
    "START_DATE = '2023-09-24'\n",
    "# START_DATE = '2024-09-24'\n",
    "# START_DATE = '2025-01-01'\n",
    "\n",
    "# Filter the merged DataFrame to include only dates after START_DATE\n",
    "merged_df = merged_df[merged_df.index >= START_DATE]\n",
    "\n",
    "# reverse order on date\n",
    "merged_df = merged_df.sort_index(ascending=False)\n",
    "\n",
    "# print total number of rows\n",
    "TOTAL_ROWS = len(merged_df)\n",
    "print(f\"Total number of rows: {len(merged_df)}\")\n",
    "\n",
    "# Find rows where the product of Pct_Change is negative\n",
    "negative_product_df = merged_df[(merged_df['Pct_Change_MCHI'] * merged_df['Pct_Change_HSI']) < 0]\n",
    "\n",
    "# Find rows where the product of Pct_Change is non-negative\n",
    "non_negative_product_df = merged_df[(merged_df['Pct_Change_MCHI'] * merged_df['Pct_Change_HSI']) >= 0]\n"
   ]
  },
  {
   "cell_type": "code",
   "execution_count": null,
   "metadata": {},
   "outputs": [],
   "source": [
    "\n",
    "# Print the rows\n",
    "print(negative_product_df)"
   ]
  },
  {
   "cell_type": "code",
   "execution_count": null,
   "metadata": {},
   "outputs": [],
   "source": [
    "# Define the date range for plotting\n",
    "start_date = '2024-12-01'\n",
    "end_date = '2025-01-01'\n",
    "\n",
    "# Filter the merged DataFrame to include only dates within the specified range\n",
    "filtered_df = merged_df[(merged_df.index >= start_date) & (merged_df.index <= end_date)]\n",
    "\n",
    "# Chart the filtered DataFrame\n",
    "plt.figure(figsize=(12, 6))\n",
    "plt.plot(filtered_df.index, filtered_df['Pct_Change_MCHI'], label='MCHI', color='blue')\n",
    "plt.plot(filtered_df.index, filtered_df['Pct_Change_HSI'], label='HSI', color='red')\n",
    "plt.xlabel('Date')\n",
    "plt.ylabel('Percentage Change')\n",
    "plt.title('MCHI vs HSI Percentage Change Over Time')\n",
    "plt.legend()\n",
    "plt.grid(True)\n",
    "plt.show()"
   ]
  },
  {
   "cell_type": "markdown",
   "metadata": {},
   "source": [
    "# plot negative ones"
   ]
  },
  {
   "cell_type": "code",
   "execution_count": null,
   "metadata": {},
   "outputs": [],
   "source": [
    "# Define the date range for plotting\n",
    "start_date = '2024-12-25'\n",
    "end_date = '2025-03-01'\n",
    "# print negative_product_df\n",
    "# Filter the merged DataFrame to include only dates within the specified range\n",
    "filtered_df = negative_product_df[(negative_product_df.index >= start_date) & (negative_product_df.index <= end_date)]  \n",
    "\n",
    "# for each ticker, add column which is the sum of last two days percentage change for each ticker\n",
    "filtered_df['Sum_Pct_Change_MCHI'] = filtered_df['Pct_Change_MCHI'].rolling(window=2).sum()\n",
    "filtered_df['Sum_Pct_Change_HSI'] = filtered_df['Pct_Change_HSI'].rolling(window=2).sum()\n",
    "\n",
    "\n",
    "\n",
    "# plot the filtered DataFrame\n",
    "plt.figure(figsize=(12, 6))\n",
    "plt.scatter(filtered_df.index, filtered_df['Pct_Change_MCHI'], label='MCHI', color='blue', s=100)\n",
    "plt.scatter(filtered_df.index, filtered_df['Pct_Change_HSI'], label='HSI', color='red', s=100)\n",
    "plt.axhline(y=0.0, color='black', linewidth=2)  # Add a thicker horizontal line at y=0.0\n",
    "plt.xlabel('Date')\n",
    "plt.ylabel('Percentage Change')\n",
    "plt.title('MCHI vs HSI Percentage Change Over Time')\n",
    "plt.legend()\n",
    "plt.grid(True)\n",
    "plt.show()\n",
    "\n",
    "# show in datatable\n",
    "# print(negative_product_df)\n",
    "\n",
    "\n",
    "# print(negative_product_df)\n",
    "negative_product_df"
   ]
  },
  {
   "cell_type": "markdown",
   "metadata": {},
   "source": [
    "## Two days"
   ]
  },
  {
   "cell_type": "code",
   "execution_count": null,
   "metadata": {},
   "outputs": [],
   "source": [
    "# plot filtered_df['Sum_Pct_Change_HSI'] and filtered_df['Sum_Pct_Change_MCHI']\n",
    "plt.figure(figsize=(12, 6))\n",
    "plt.plot(filtered_df.index, filtered_df['Sum_Pct_Change_MCHI'], label='MCHI', color='blue')\n",
    "plt.plot(filtered_df.index, filtered_df['Sum_Pct_Change_HSI'], label='HSI', color='red')\n",
    "plt.xlabel('Date')\n",
    "plt.ylabel('Percentage Change')\n",
    "plt.title('MCHI vs HSI Percentage Change Over Time')\n",
    "plt.legend()\n",
    "plt.grid(True)\n",
    "plt.show()\n"
   ]
  },
  {
   "cell_type": "markdown",
   "metadata": {},
   "source": [
    "## Ratio"
   ]
  },
  {
   "cell_type": "code",
   "execution_count": null,
   "metadata": {},
   "outputs": [],
   "source": [
    "# print START_DATE\n",
    "print(START_DATE)\n",
    "# print len of negative_product_df\n",
    "len(negative_product_df)/ len(merged_df) * 100"
   ]
  },
  {
   "cell_type": "code",
   "execution_count": null,
   "metadata": {},
   "outputs": [],
   "source": [
    "\n",
    "\n",
    "# Print the rows\n",
    "print(non_negative_product_df)"
   ]
  },
  {
   "cell_type": "markdown",
   "metadata": {},
   "source": [
    "# TODO\n",
    "- gap in gains\n",
    "- hold with more days stratgies"
   ]
  },
  {
   "cell_type": "markdown",
   "metadata": {},
   "source": []
  }
 ],
 "metadata": {
  "kernelspec": {
   "display_name": "Python 3",
   "language": "python",
   "name": "python3"
  },
  "language_info": {
   "codemirror_mode": {
    "name": "ipython",
    "version": 3
   },
   "file_extension": ".py",
   "mimetype": "text/x-python",
   "name": "python",
   "nbconvert_exporter": "python",
   "pygments_lexer": "ipython3",
   "version": "3.9.6"
  }
 },
 "nbformat": 4,
 "nbformat_minor": 2
}
