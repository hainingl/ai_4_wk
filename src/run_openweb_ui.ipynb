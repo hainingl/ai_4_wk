{
 "cells": [
  {
   "cell_type": "code",
   "execution_count": 3,
   "metadata": {
    "vscode": {
     "languageId": "shellscript"
    }
   },
   "outputs": [
    {
     "name": "stdout",
     "output_type": "stream",
     "text": [
      "Defaulting to user installation because normal site-packages is not writeable\n",
      "\u001b[31mERROR: Ignored the following versions that require a different python version: 0.1.124 Requires-Python <3.12.0a1,>=3.11; 0.1.125 Requires-Python <3.12.0a1,>=3.11; 0.2.0 Requires-Python <3.12.0a1,>=3.11; 0.2.0.dev1 Requires-Python <3.12.0a1,>=3.11; 0.2.0.dev2 Requires-Python <3.12.0a1,>=3.11; 0.2.0.dev3 Requires-Python <3.12.0a1,>=3.11; 0.2.0.dev4 Requires-Python <3.12.0a1,>=3.11; 0.2.1 Requires-Python <3.12.0a1,>=3.11; 0.2.2 Requires-Python <3.12.0a1,>=3.11; 0.2.3 Requires-Python <3.12.0a1,>=3.11; 0.2.4 Requires-Python <3.12.0a1,>=3.11; 0.2.5 Requires-Python <3.12.0a1,>=3.11; 0.3.0 Requires-Python <3.12.0a1,>=3.11; 0.3.1 Requires-Python <3.12.0a1,>=3.11; 0.3.10 Requires-Python <3.12.0a1,>=3.11; 0.3.12 Requires-Python <3.12.0a1,>=3.11; 0.3.13 Requires-Python <3.12.0a1,>=3.11; 0.3.14 Requires-Python <3.12.0a1,>=3.11; 0.3.15 Requires-Python <3.12.0a1,>=3.11; 0.3.16 Requires-Python <3.12.0a1,>=3.11; 0.3.17 Requires-Python <3.12.0a1,>=3.11; 0.3.17.dev1 Requires-Python <3.12.0a1,>=3.11; 0.3.17.dev2 Requires-Python <3.12.0a1,>=3.11; 0.3.17.dev3 Requires-Python <3.12.0a1,>=3.11; 0.3.17.dev4 Requires-Python <3.12.0a1,>=3.11; 0.3.17.dev5 Requires-Python <3.12.0a1,>=3.11; 0.3.17.dev6 Requires-Python <3.12.0a1,>=3.11; 0.3.18 Requires-Python <3.12.0a1,>=3.11; 0.3.19 Requires-Python <3.12.0a1,>=3.11; 0.3.2 Requires-Python <3.12.0a1,>=3.11; 0.3.20 Requires-Python <3.12.0a1,>=3.11; 0.3.21 Requires-Python <3.12.0a1,>=3.11; 0.3.22 Requires-Python <3.12.0a1,>=3.11; 0.3.23 Requires-Python <3.12.0a1,>=3.11; 0.3.24 Requires-Python <3.12.0a1,>=3.11; 0.3.25 Requires-Python <3.12.0a1,>=3.11; 0.3.26 Requires-Python <3.12.0a1,>=3.11; 0.3.27 Requires-Python <3.12.0a1,>=3.11; 0.3.27.dev1 Requires-Python <3.12.0a1,>=3.11; 0.3.27.dev2 Requires-Python <3.12.0a1,>=3.11; 0.3.27.dev3 Requires-Python <3.12.0a1,>=3.11; 0.3.28 Requires-Python <3.12.0a1,>=3.11; 0.3.29 Requires-Python <3.12.0a1,>=3.11; 0.3.3 Requires-Python <3.12.0a1,>=3.11; 0.3.30 Requires-Python <3.12.0a1,>=3.11; 0.3.30.dev1 Requires-Python <3.12.0a1,>=3.11; 0.3.30.dev2 Requires-Python <3.12.0a1,>=3.11; 0.3.31 Requires-Python <3.12.0a1,>=3.11; 0.3.31.dev1 Requires-Python <3.12.0a1,>=3.11; 0.3.32 Requires-Python <3.12.0a1,>=3.11; 0.3.33 Requires-Python <3.12.0a1,>=3.11; 0.3.33.dev1 Requires-Python <3.12.0a1,>=3.11; 0.3.34 Requires-Python <3.12.0a1,>=3.11; 0.3.35 Requires-Python <3.12.0a1,>=3.11; 0.3.4 Requires-Python <3.12.0a1,>=3.11; 0.3.5 Requires-Python <3.12.0a1,>=3.11; 0.3.6 Requires-Python <3.12.0a1,>=3.11; 0.3.7 Requires-Python <3.12.0a1,>=3.11; 0.3.8 Requires-Python <3.12.0a1,>=3.11; 0.3.9 Requires-Python <3.12.0a1,>=3.11; 0.4.0 Requires-Python <3.12.0a1,>=3.11; 0.4.0.dev1 Requires-Python <3.12.0a1,>=3.11; 0.4.0.dev2 Requires-Python <3.12.0a1,>=3.11; 0.4.1 Requires-Python <3.12.0a1,>=3.11; 0.4.2 Requires-Python <3.12.0a1,>=3.11; 0.4.3 Requires-Python <3.12.0a1,>=3.11; 0.4.4 Requires-Python <3.12.0a1,>=3.11; 0.4.5 Requires-Python <3.12.0a1,>=3.11; 0.4.6 Requires-Python <3.12.0a1,>=3.11; 0.4.6.dev1 Requires-Python <3.12.0a1,>=3.11; 0.4.7 Requires-Python <3.12.0a1,>=3.11; 0.4.8 Requires-Python <3.12.0a1,>=3.11; 0.5.0 Requires-Python <3.13.0a1,>=3.11; 0.5.0.dev1 Requires-Python <3.13.0a1,>=3.11; 0.5.0.dev2 Requires-Python <3.13.0a1,>=3.11; 0.5.1 Requires-Python <3.13.0a1,>=3.11; 0.5.10 Requires-Python <3.13.0a1,>=3.11; 0.5.2 Requires-Python <3.13.0a1,>=3.11; 0.5.3 Requires-Python <3.13.0a1,>=3.11; 0.5.3.dev1 Requires-Python <3.13.0a1,>=3.11; 0.5.4 Requires-Python <3.13.0a1,>=3.11; 0.5.5 Requires-Python <3.13.0a1,>=3.11; 0.5.5.dev1 Requires-Python <3.13.0a1,>=3.11; 0.5.6 Requires-Python <3.13.0a1,>=3.11; 0.5.7 Requires-Python <3.13.0a1,>=3.11; 0.5.8 Requires-Python <3.13.0a1,>=3.11; 0.5.9 Requires-Python <3.13.0a1,>=3.11\u001b[0m\u001b[31m\n",
      "\u001b[0m\u001b[31mERROR: Could not find a version that satisfies the requirement open-webui (from versions: none)\u001b[0m\u001b[31m\n",
      "\u001b[0m\n",
      "\u001b[1m[\u001b[0m\u001b[34;49mnotice\u001b[0m\u001b[1;39;49m]\u001b[0m\u001b[39;49m A new release of pip is available: \u001b[0m\u001b[31;49m24.3.1\u001b[0m\u001b[39;49m -> \u001b[0m\u001b[32;49m25.0\u001b[0m\n",
      "\u001b[1m[\u001b[0m\u001b[34;49mnotice\u001b[0m\u001b[1;39;49m]\u001b[0m\u001b[39;49m To update, run: \u001b[0m\u001b[32;49m/Applications/Xcode.app/Contents/Developer/usr/bin/python3 -m pip install --upgrade pip\u001b[0m\n",
      "\u001b[31mERROR: No matching distribution found for open-webui\u001b[0m\u001b[31m\n",
      "\u001b[0m"
     ]
    }
   ],
   "source": [
    "!pip install open-webui"
   ]
  },
  {
   "cell_type": "code",
   "execution_count": 5,
   "metadata": {
    "vscode": {
     "languageId": "shellscript"
    }
   },
   "outputs": [
    {
     "name": "stdout",
     "output_type": "stream",
     "text": [
      "zsh:1: command not found: python\n"
     ]
    }
   ],
   "source": [
    "!python --version"
   ]
  }
 ],
 "metadata": {
  "kernelspec": {
   "display_name": "Python 3",
   "language": "python",
   "name": "python3"
  },
  "language_info": {
   "codemirror_mode": {
    "name": "ipython",
    "version": 3
   },
   "file_extension": ".py",
   "mimetype": "text/x-python",
   "name": "python",
   "nbconvert_exporter": "python",
   "pygments_lexer": "ipython3",
   "version": "3.9.6"
  }
 },
 "nbformat": 4,
 "nbformat_minor": 2
}
