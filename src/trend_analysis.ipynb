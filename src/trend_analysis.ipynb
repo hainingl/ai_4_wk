{
 "cells": [
  {
   "cell_type": "code",
   "execution_count": null,
   "metadata": {},
   "outputs": [],
   "source": [
    "import pandas as pd\n",
    "import matplotlib.pyplot as plt\n",
    "import matplotlib.dates as mdates\n",
    "import os\n",
    "import glob\n",
    "\n",
    "def get_top_trending_stocks(num_stocks: int = 5) -> list:\n",
    "    # find current path and print it\n",
    "    print(os.getcwd())\n",
    "    \n",
    "    all_files = glob.glob('../data/*.csv')\n",
    "    df_list = []\n",
    "\n",
    "    for filename in all_files:\n",
    "        symbol = os.path.basename(filename).split('.')[0]\n",
    "        temp_df = pd.read_csv(filename, on_bad_lines='skip')\n",
    "        temp_df['Symbol'] = symbol\n",
    "        df_list.append(temp_df)\n",
    "\n",
    "    df = pd.concat(df_list)\n",
    "    df['Date'] = pd.to_datetime(df['Date'], format='mixed')\n",
    "\n",
    "    # Convert relevant columns to numeric types\n",
    "    df['Close'] = pd.to_numeric(df['Close'], errors='coerce')\n",
    "\n",
    "    # Calculate 5-day trends\n",
    "    df['5_day_change'] = df.groupby('Symbol')['Close'].pct_change(5)\n",
    "\n",
    "    # Get latest 5-day change for each stock\n",
    "    latest_trends = df.groupby('Symbol')['5_day_change'].last().sort_values(ascending=False)\n",
    "\n",
    "    # Print top trending stocks\n",
    "    # print(f\"Top {num_stocks} Trending Stocks:\")\n",
    "    # print(latest_trends.head(num_stocks))\n",
    "\n",
    "    return latest_trends.head(num_stocks).index.tolist()\n",
    "\n",
    "\n",
    "# Call the function and save results\n",
    "top_trending_stocks = get_top_trending_stocks(num_stocks=10)\n",
    "print(f\"Top trending stocks: {top_trending_stocks}\")\n"
   ]
  },
  {
   "cell_type": "code",
   "execution_count": null,
   "metadata": {},
   "outputs": [],
   "source": [
    "\n",
    "\n",
    "def plot_top_trending_stocks(top_trending_stocks):\n",
    "    for symbol in top_trending_stocks:\n",
    "        filename = f'{symbol}.csv'\n",
    "        stock_data = pd.read_csv(f'../data/{filename}', on_bad_lines='skip')\n",
    "        \n",
    "        # Skip the first 3 rows and reset the header\n",
    "        stock_data = stock_data.iloc[3:].reset_index(drop=True)\n",
    "        stock_data.columns = ['Date', 'Close', 'High', 'Low', 'Open', 'Volume']\n",
    "\n",
    "        # Print the columns to debug\n",
    "        print(f\"Columns in {filename}: {stock_data.columns}\")\n",
    "\n",
    "        if 'Date' in stock_data.columns and 'Close' in stock_data.columns:\n",
    "            stock_data['Date'] = pd.to_datetime(stock_data['Date'], format='mixed')\n",
    "            stock_data['Close'] = pd.to_numeric(stock_data['Close'], errors='coerce')\n",
    "\n",
    "            # Calculate percentage increase\n",
    "            stock_data['Pct_Change'] = stock_data['Close'].pct_change() * 100\n",
    "\n",
    "            fig, ax1 = plt.subplots(figsize=(10, 5))\n",
    "\n",
    "            ax1.plot(stock_data['Date'], stock_data['Close'], label=f'{symbol} Close Price', color='blue')\n",
    "            ax1.set_xlabel('Date', fontweight='bold')\n",
    "            ax1.set_ylabel('Close Price', color='blue')\n",
    "            ax1.tick_params(axis='y', labelcolor='blue')\n",
    "            ax1.legend(loc='upper left')\n",
    "            ax1.grid(True)\n",
    "            ax1.xaxis.set_major_locator(mdates.MonthLocator())\n",
    "            ax1.xaxis.set_major_formatter(mdates.DateFormatter('%Y-%m'))\n",
    "            plt.xticks(rotation=45, fontweight='bold')\n",
    "\n",
    "            ax2 = ax1.twinx()\n",
    "            ax2.plot(stock_data['Date'], stock_data['Pct_Change'], label=f'{symbol} % Change', color='orange')\n",
    "            ax2.set_ylabel('Percentage Change', color='orange')\n",
    "            ax2.tick_params(axis='y', labelcolor='orange')\n",
    "            ax2.legend(loc='upper right')\n",
    "\n",
    "            # Add y=0 line\n",
    "            ax2.axhline(y=0, color='black', linewidth=2, linestyle='--')\n",
    "\n",
    "            # Add big red star for volatile days\n",
    "            volatile_days = stock_data[abs(stock_data['Pct_Change']) > 10]\n",
    "            ax2.scatter(volatile_days['Date'], volatile_days['Pct_Change'], color='red', s=100, marker='*', label='Volatile Day')\n",
    "            for idx, row in volatile_days.iterrows():\n",
    "                ax2.text(row['Date'], row['Pct_Change'], 'Volatile', color='red', fontsize=12, fontweight='bold')\n",
    "\n",
    "            plt.title(f'{symbol} Stock Price and Percentage Change')\n",
    "            plt.tight_layout()\n",
    "            plt.savefig(f'../data/{symbol}_trend_pct_change.png')\n",
    "            plt.show()\n",
    "        else:\n",
    "            print(f\"Skipping {symbol} as it does not contain 'Date' or 'Close' column\")\n",
    "\n",
    "# Call the function to plot the charts\n",
    "\n",
    "# Call the function and save results\n",
    "top_trending_stocks = get_top_trending_stocks(num_stocks=10)\n",
    "# plot_top_trending_stocks(top_trending_stocks)\n"
   ]
  },
  {
   "cell_type": "code",
   "execution_count": null,
   "metadata": {},
   "outputs": [],
   "source": [
    "from utils import CHART_TRADING_VIEW_TEMPLATE, display_chart_in_browser"
   ]
  },
  {
   "cell_type": "code",
   "execution_count": null,
   "metadata": {},
   "outputs": [],
   "source": [
    "\n",
    "\n",
    "US_STOCKS = {\n",
    "    \"AZO\": {\n",
    "        \"symbol\": \"AZO\",\n",
    "        \"interval\": \"30\",\n",
    "        \"Note\": \"uptrading\",\n",
    "        \"layout\": \"VFWyLZpO\"\n",
    "    },\n",
    "    \"AZO_VIDYA\": {\n",
    "        \"symbol\": \"AZO\",\n",
    "        \"interval\": \"1H\",\n",
    "        \"layout\": \"vZjXf8fw\"\n",
    "    },\n",
    "\n",
    "    \"BABA\": {\n",
    "        \"symbol\": \"BABA\",\n",
    "        \"interval\": \"5\",\n",
    "        \"Note\": \"uptrading, Chinese new year\",\n",
    "        \"layout\": \"VFWyLZpO\"\n",
    "    }\n",
    "}\n",
    "\n",
    "# Example usage\n",
    "# display_charts_from_dict(US_STOCKS)\n"
   ]
  },
  {
   "cell_type": "markdown",
   "metadata": {},
   "source": [
    "# Visual inspection"
   ]
  },
  {
   "cell_type": "code",
   "execution_count": null,
   "metadata": {},
   "outputs": [],
   "source": [
    "from utils import get_top_trending_stocks, display_chart_in_browser, display_charts_from_dict\n",
    "\n",
    "top_trending_stocks = get_top_trending_stocks(num_stocks=2)\n",
    "print(f\"Top trending stocks: {top_trending_stocks}\")\n",
    "# display_chart_in_browser(top_trending_stocks, url_template=CHART_TRADING_VIEW_TEMPLATE)"
   ]
  },
  {
   "cell_type": "code",
   "execution_count": null,
   "metadata": {},
   "outputs": [],
   "source": [
    "import pprint\n",
    "from utils import create_top_trending_stocks_dict\n",
    "\n",
    "# Example usage\n",
    "top_trending_stocks_dict = create_top_trending_stocks_dict(top_trending_stocks)\n",
    "# get the top trending stocks\n",
    "\n",
    "\n",
    "\n",
    "pprint.pprint(top_trending_stocks_dict)\n",
    "# display first two stocks\n",
    "# display_charts_from_dict(top_trending_stocks_dict)    \n",
    "\n",
    "display_charts_from_dict(top_trending_stocks_dict)"
   ]
  },
  {
   "cell_type": "markdown",
   "metadata": {},
   "source": [
    "# Closer reviews"
   ]
  },
  {
   "cell_type": "code",
   "execution_count": null,
   "metadata": {},
   "outputs": [],
   "source": [
    "display_charts_from_dict(US_STOCKS)"
   ]
  },
  {
   "cell_type": "code",
   "execution_count": null,
   "metadata": {},
   "outputs": [],
   "source": [
    "from utils import DAILY_BUYING_SCREEN_TEMPLATE, display_chart_in_browser\n",
    "\n",
    "stock_symbols = ['UBER', 'YUM']\n",
    "schwab_main = ['byddf', 'spy', 'mchi']\n",
    "\n",
    "# display_chart_in_browser(stock_symbols, url_template=CHART_TRADING_VIEW_TEMPLATE)\n",
    "# display_chart_in_browser(stock_symbols, url_template=DAILY_SCREEN_10_30_1H_TEMPLATE)\n",
    "display_chart_in_browser(schwab_main, url_template=DAILY_BUYING_SCREEN_TEMPLATE)"
   ]
  },
  {
   "cell_type": "code",
   "execution_count": null,
   "metadata": {},
   "outputs": [],
   "source": [
    "# Example usage\n",
    "top_trending_stocks_dict = create_top_trending_stocks_dict(stock_symbols)\n",
    "# get the top trending stocks\n",
    "\n",
    "\n",
    "\n",
    "pprint.pprint(top_trending_stocks_dict)\n",
    "# display first two stocks\n",
    "# display_charts_from_dict(top_trending_stocks_dict)    \n",
    "\n",
    "display_charts_from_dict(top_trending_stocks_dict)"
   ]
  }
 ],
 "metadata": {
  "kernelspec": {
   "display_name": "ai_4_wk",
   "language": "python",
   "name": "python3"
  },
  "language_info": {
   "codemirror_mode": {
    "name": "ipython",
    "version": 3
   },
   "file_extension": ".py",
   "mimetype": "text/x-python",
   "name": "python",
   "nbconvert_exporter": "python",
   "pygments_lexer": "ipython3",
   "version": "3.13.2"
  }
 },
 "nbformat": 4,
 "nbformat_minor": 2
}
