{
 "cells": [
  {
   "cell_type": "markdown",
   "metadata": {},
   "source": [
    "# Import Required Libraries\n",
    "import numpy as np\n",
    "from datetime import datetime, timedelta\n",
    "import pandas as pd\n",
    "import mplfinance as mpf\n",
    "import csv"
   ]
  },
  {
   "cell_type": "code",
   "execution_count": null,
   "metadata": {},
   "outputs": [],
   "source": [
    "import numpy as np\n",
    "from datetime import datetime, timedelta\n",
    "import pandas as pd\n",
    "import mplfinance as mpf\n",
    "import csv"
   ]
  },
  {
   "cell_type": "markdown",
   "metadata": {},
   "source": [
    "# Configuration\n",
    "last_close = 567.0\n",
    "max_allowed = last_close * 1.10  # 623.7\n",
    "num_days = 30"
   ]
  },
  {
   "cell_type": "code",
   "execution_count": null,
   "metadata": {},
   "outputs": [],
   "source": [
    "# Configuration\n",
    "last_close = 567.0\n",
    "max_allowed = last_close * 1.10  # 623.7\n",
    "num_days = 30"
   ]
  },
  {
   "cell_type": "markdown",
   "metadata": {},
   "source": [
    "# Generate Timestamps\n",
    "def generate_timestamps(start_time, num_days):\n",
    "    current = datetime.utcfromtimestamp(start_time)\n",
    "    timestamps = []\n",
    "    days_added = 0\n",
    "    while days_added < num_days:\n",
    "        current += timedelta(days=1)\n",
    "        if current.weekday() < 5:  # Skip weekends\n",
    "            for i in range(13):  # 13 intervals/day (9:30 AM - 4:00 PM ET)\n",
    "                interval = current.replace(hour=13, minute=30) + timedelta(minutes=30*i)\n",
    "                timestamps.append(int(interval.timestamp()))\n",
    "            days_added += 1\n",
    "    return timestamps"
   ]
  },
  {
   "cell_type": "code",
   "execution_count": null,
   "metadata": {},
   "outputs": [],
   "source": [
    "# Generate timestamps (UTC for NYSE trading hours)\n",
    "def generate_timestamps(start_time, num_days):\n",
    "    current = datetime.utcfromtimestamp(start_time)\n",
    "    timestamps = []\n",
    "    days_added = 0\n",
    "    while days_added < num_days:\n",
    "        current += timedelta(days=1)\n",
    "        if current.weekday() < 5:  # Skip weekends\n",
    "            for i in range(13):  # 13 intervals/day (9:30 AM - 4:00 PM ET)\n",
    "                interval = current.replace(hour=13, minute=30) + timedelta(minutes=30*i)\n",
    "                timestamps.append(int(interval.timestamp()))\n",
    "            days_added += 1\n",
    "    return timestamps"
   ]
  },
  {
   "cell_type": "markdown",
   "metadata": {},
   "source": [
    "# Price Generator with Daily Bounds\n",
    "def generate_ohlc(prev_close, daily_high, daily_low, num_intervals=13):\n",
    "    opens = [prev_close]\n",
    "    closes = []\n",
    "    for _ in range(num_intervals-1):\n",
    "        change = np.random.uniform(-0.002, 0.002)  # ±0.2% per 30m\n",
    "        new_close = opens[-1] * (1 + change)\n",
    "        new_close = np.clip(new_close, daily_low, daily_high)\n",
    "        closes.append(new_close)\n",
    "        opens.append(new_close)\n",
    "    highs = [max(o, c) + np.random.uniform(0, 0.001)*o for o, c in zip(opens, closes)]\n",
    "    lows = [min(o, c) - np.random.uniform(0, 0.001)*o for o, c in zip(opens, closes)]\n",
    "    return list(zip(opens, highs, lows, closes))"
   ]
  },
  {
   "cell_type": "code",
   "execution_count": null,
   "metadata": {},
   "outputs": [],
   "source": [
    "def generate_ohlc(prev_close, daily_high, daily_low, num_intervals=13):\n",
    "    opens = [prev_close]\n",
    "    closes = []\n",
    "    for _ in range(num_intervals-1):\n",
    "        change = np.random.uniform(-0.002, 0.002)  # ±0.2% per 30m\n",
    "        new_close = opens[-1] * (1 + change)\n",
    "        new_close = np.clip(new_close, daily_low, daily_high)\n",
    "        closes.append(new_close)\n",
    "        opens.append(new_close)\n",
    "    highs = [max(o, c) + np.random.uniform(0, 0.001)*o for o, c in zip(opens, closes)]\n",
    "    lows = [min(o, c) - np.random.uniform(0, 0.001)*o for o, c in zip(opens, closes)]\n",
    "    return list(zip(opens, highs, lows, closes))"
   ]
  },
  {
   "cell_type": "markdown",
   "metadata": {},
   "source": [
    "# Generate Data\n",
    "timestamps = generate_timestamps(1742239800, num_days)\n",
    "data = []\n",
    "current_close = last_close\n",
    "for ts in timestamps:\n",
    "    if timestamps.index(ts) % 13 == 0:  # New day\n",
    "        daily_high = min(current_close * 1.025, max_allowed)\n",
    "        daily_low = max(current_close * 0.975, daily_high * 0.975)\n",
    "    ohlc = generate_ohlc(current_close, daily_high, daily_low)\n",
    "    for entry in ohlc:\n",
    "        data.append([ts, entry[0], entry[1], entry[2], entry[3]])\n",
    "        ts += 1800  # Add 30 mins\n",
    "    current_close = ohlc[-1][3]"
   ]
  },
  {
   "cell_type": "code",
   "execution_count": null,
   "metadata": {},
   "outputs": [],
   "source": [
    "# Generate Data\n",
    "timestamps = generate_timestamps(1742239800, num_days)\n",
    "data = []\n",
    "current_close = last_close\n",
    "for ts in timestamps:\n",
    "    if timestamps.index(ts) % 13 == 0:  # New day\n",
    "        daily_high = min(current_close * 1.025, max_allowed)\n",
    "        daily_low = max(current_close * 0.975, daily_high * 0.975)\n",
    "    ohlc = generate_ohlc(current_close, daily_high, daily_low)\n",
    "    for entry in ohlc:\n",
    "        data.append([ts, entry[0], entry[1], entry[2], entry[3]])\n",
    "        ts += 1800  # Add 30 mins\n",
    "    current_close = ohlc[-1][3]"
   ]
  },
  {
   "cell_type": "markdown",
   "metadata": {},
   "source": [
    "# Convert Data to DataFrame\n",
    "df = pd.DataFrame(data, columns=['time', 'open', 'high', 'low', 'close'])\n",
    "df['time'] = pd.to_datetime(df['time'], unit='s')"
   ]
  },
  {
   "cell_type": "code",
   "execution_count": null,
   "metadata": {},
   "outputs": [],
   "source": [
    "df = pd.DataFrame(data, columns=['time', 'open', 'high', 'low', 'close'])\n",
    "df['time'] = pd.to_datetime(df['time'], unit='s')"
   ]
  },
  {
   "cell_type": "markdown",
   "metadata": {},
   "source": [
    "# Plot the OHLC Data\n",
    "mpf.plot(df.set_index('time'), type='ohlc', style='candlestick', title='Generated Stock Data', ylabel='Price')"
   ]
  },
  {
   "cell_type": "code",
   "execution_count": null,
   "metadata": {},
   "outputs": [],
   "source": [
    "mpf.plot(df.set_index('time'), type='ohlc', style='classic', title='Generated Stock Data', ylabel='Price')"
   ]
  },
  {
   "cell_type": "markdown",
   "metadata": {},
   "source": [
    "# Save to CSV\n",
    "with open('generated_spy_30m.csv', 'w', newline='') as f:\n",
    "    writer = csv.writer(f)\n",
    "    writer.writerow(['time', 'open', 'high', 'low', 'close'])\n",
    "    writer.writerows(data)"
   ]
  },
  {
   "cell_type": "code",
   "execution_count": null,
   "metadata": {},
   "outputs": [],
   "source": [
    "with open('generated_spy_30m.csv', 'w', newline='') as f:\n",
    "    writer = csv.writer(f)\n",
    "    writer.writerow(['time', 'open', 'high', 'low', 'close'])\n",
    "    writer.writerows(data)"
   ]
  }
 ],
 "metadata": {
  "kernelspec": {
   "display_name": "ai_4_wk",
   "language": "python",
   "name": "python3"
  },
  "language_info": {
   "codemirror_mode": {
    "name": "ipython",
    "version": 3
   },
   "file_extension": ".py",
   "mimetype": "text/x-python",
   "name": "python",
   "nbconvert_exporter": "python",
   "pygments_lexer": "ipython3",
   "version": "3.13.2"
  }
 },
 "nbformat": 4,
 "nbformat_minor": 2
}
