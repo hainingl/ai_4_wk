{
 "cells": [
  {
   "cell_type": "markdown",
   "metadata": {},
   "source": [
    "# March 2025"
   ]
  },
  {
   "cell_type": "markdown",
   "metadata": {},
   "source": [
    "## 3-34\n",
    "- SPY up near 2%, \n",
    "- MCHI not healty\n",
    "- TSLA back, don't see 180 possible now\n",
    "- BYD gap up\n",
    "- MU follows SPY\n",
    "- 11% loss on rotation from FPHX to big corp "
   ]
  },
  {
   "cell_type": "markdown",
   "metadata": {},
   "source": [
    "## 3-22-2025\n",
    "- spy reversal\n",
    "- expect 5% recovery short term\n",
    "- long term back to 5811, \n",
    "- moving is moving back to us short term, may impact CN also\n",
    "## strategy next\n",
    "- heave on SPY\n",
    "- long or short exit?\n",
    "- buy SPYU, buy SDS (2x short)\n",
    "- "
   ]
  },
  {
   "cell_type": "markdown",
   "metadata": {},
   "source": []
  }
 ],
 "metadata": {
  "language_info": {
   "name": "python"
  }
 },
 "nbformat": 4,
 "nbformat_minor": 2
}
