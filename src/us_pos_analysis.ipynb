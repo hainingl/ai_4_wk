{
 "cells": [
  {
   "cell_type": "code",
   "execution_count": 2,
   "metadata": {},
   "outputs": [],
   "source": [
    "# pip install tabulate"
   ]
  },
  {
   "cell_type": "markdown",
   "metadata": {},
   "source": [
    "# Schwab"
   ]
  },
  {
   "cell_type": "code",
   "execution_count": 3,
   "metadata": {},
   "outputs": [
    {
     "name": "stdout",
     "output_type": "stream",
     "text": [
      "| Symbol   | Detail                                |   Holding |   Mkt Value | Type                    |\n",
      "|:---------|:--------------------------------------|----------:|------------:|:------------------------|\n",
      "| VWUSX    | VANGUARD US GROWTH INVESTOR           |      3081 |      231985 | Mutual Fund             |\n",
      "| SPY      | SPDR S&P 500 ETF IV                   |       147 |       88313 | ETFs & Closed End Funds |\n",
      "| FI       | FISERV INC                            |       272 |       62576 | Equity                  |\n",
      "| JAGTX    | JANUS HENDERSON GLB TECH AND INNOVT T |       744 |       47217 | Mutual Fund             |\n",
      "| CLIP     | GLOBAL X 13 MONTH T BILL ETF          |       310 |       31058 | ETFs & Closed End Funds |\n",
      "| SCHX     | SCHWAB US LARGE CAP ETF               |       624 |       14882 | ETFs & Closed End Funds |\n",
      "| AKAM     | AKAMAI TECHNOLOGIES INC               |       116 |       11558 | Equity                  |\n",
      "| FNDX     | SCHWAB FUNDMNTL US LARGECOM ETF       |       366 |        8948 | ETFs & Closed End Funds |\n",
      "| SCHA     | SCHWAB US SMALL CAP ETF               |       300 |        7992 | ETFs & Closed End Funds |\n",
      "| FNDF     | SCHWAB FUNDAMNTL INTRNL EQT ETF       |       185 |        6428 | ETFs & Closed End Funds |\n",
      "| FNDA     | SCHWAB FUNDAMNTL US SML COM ETF       |       176 |        5322 | ETFs & Closed End Funds |\n",
      "| LPSN     | LIVEPERSON INC                        |      2285 |        3221 | Equity                  |\n",
      "| IAU      | ISHARES GOLD ETF                      |        43 |        2320 | ETFs & Closed End Funds |\n",
      "| QQQ      | INVSC QQQ TRUST SRS 1 ETF             |         3 |        1568 | ETFs & Closed End Funds |\n",
      "| ADBE     | ADOBE INC                             |         2 |         866 | Equity                  |\n"
     ]
    }
   ],
   "source": [
    "import pandas as pd\n",
    "\n",
    "def load_and_display_csv(file_path: str, num_rows: int = 10) -> None:\n",
    "    # Load the CSV file\n",
    "    df = pd.read_csv(file_path)\n",
    "    \n",
    "    # Ignore the first row\n",
    "    df = df.iloc[1:]\n",
    "    \n",
    "    # Drop empty rows\n",
    "    df = df.dropna(how='all')\n",
    "    \n",
    "    # Remove rows where the second column has values NaN, 'Description', 'nan', or '--'\n",
    "    df = df[~df.iloc[:, 1].isin([pd.NA, 'Description', 'nan', '--'])]\n",
    "    df = df.dropna(subset=[df.columns[1]])\n",
    "    \n",
    "    # Select the first 3 columns, the 7th column, and the last one\n",
    "    selected_columns = df.iloc[:, [0, 1, 2, 6, -1]].copy()\n",
    "    \n",
    "    # Rename the columns\n",
    "    selected_columns.columns = ['Symbol', 'Detail', 'Holding', 'Mkt Value', 'Type']\n",
    "    \n",
    "    # Remove '$' sign and commas, then convert 'Mkt Value' to float\n",
    "    selected_columns.loc[:, 'Mkt Value'] = selected_columns['Mkt Value'].replace('[\\$,]', '', regex=True).replace(',', '', regex=True).astype(float)\n",
    "    \n",
    "    # Convert 'Holding' to float\n",
    "    selected_columns.loc[:, 'Holding'] = selected_columns['Holding'].replace(',', '', regex=True).astype(float)\n",
    "    \n",
    "    # Group by 'Symbol' and sum 'Holding' and 'Mkt Value'\n",
    "    grouped = selected_columns.groupby('Symbol').agg({\n",
    "        'Detail': 'first',\n",
    "        'Holding': 'sum',\n",
    "        'Mkt Value': 'sum',\n",
    "        'Type': 'first'\n",
    "    }).reset_index()\n",
    "    \n",
    "    # Round 'Holding' and 'Mkt Value' to int\n",
    "    grouped['Holding'] = grouped['Holding'].round().astype(int)\n",
    "    grouped['Mkt Value'] = grouped['Mkt Value'].round().astype(int)\n",
    "    \n",
    "    # Sort by 'Mkt Value' in descending order\n",
    "    grouped = grouped.sort_values(by='Mkt Value', ascending=False)\n",
    "    \n",
    "    # Display the grouped columns as a Markdown table\n",
    "    print(grouped.head(num_rows).to_markdown(index=False))\n",
    "\n",
    "# Example usage\n",
    "file_path = '/Users/hliu/Downloads/All-Accounts-Positions-2025-02-07-164814.csv'\n",
    "load_and_display_csv(file_path, num_rows=20)"
   ]
  },
  {
   "cell_type": "code",
   "execution_count": 4,
   "metadata": {},
   "outputs": [
    {
     "name": "stdout",
     "output_type": "stream",
     "text": [
      "| Symbol   | Detail                                |   Holding |   Mkt Value | Type                    |\n",
      "|:---------|:--------------------------------------|----------:|------------:|:------------------------|\n",
      "| VWUSX    | VANGUARD US GROWTH INVESTOR           |      3081 |      231985 | Mutual Fund             |\n",
      "| SPY      | SPDR S&P 500 ETF IV                   |       147 |       88313 | ETFs & Closed End Funds |\n",
      "| FI       | FISERV INC                            |       272 |       62576 | Equity                  |\n",
      "| JAGTX    | JANUS HENDERSON GLB TECH AND INNOVT T |       744 |       47217 | Mutual Fund             |\n",
      "| CLIP     | GLOBAL X 13 MONTH T BILL ETF          |       310 |       31058 | ETFs & Closed End Funds |\n",
      "| SCHX     | SCHWAB US LARGE CAP ETF               |       624 |       14882 | ETFs & Closed End Funds |\n",
      "| AKAM     | AKAMAI TECHNOLOGIES INC               |       116 |       11558 | Equity                  |\n",
      "| FNDX     | SCHWAB FUNDMNTL US LARGECOM ETF       |       366 |        8948 | ETFs & Closed End Funds |\n",
      "| SCHA     | SCHWAB US SMALL CAP ETF               |       300 |        7992 | ETFs & Closed End Funds |\n",
      "| FNDF     | SCHWAB FUNDAMNTL INTRNL EQT ETF       |       185 |        6428 | ETFs & Closed End Funds |\n",
      "| FNDA     | SCHWAB FUNDAMNTL US SML COM ETF       |       176 |        5322 | ETFs & Closed End Funds |\n",
      "| LPSN     | LIVEPERSON INC                        |      2285 |        3221 | Equity                  |\n",
      "| IAU      | ISHARES GOLD ETF                      |        43 |        2320 | ETFs & Closed End Funds |\n",
      "| QQQ      | INVSC QQQ TRUST SRS 1 ETF             |         3 |        1568 | ETFs & Closed End Funds |\n",
      "| ADBE     | ADOBE INC                             |         2 |         866 | Equity                  |\n"
     ]
    }
   ],
   "source": [
    "\n",
    "load_and_display_csv(file_path, 100)"
   ]
  }
 ],
 "metadata": {
  "kernelspec": {
   "display_name": "Python 3",
   "language": "python",
   "name": "python3"
  },
  "language_info": {
   "codemirror_mode": {
    "name": "ipython",
    "version": 3
   },
   "file_extension": ".py",
   "mimetype": "text/x-python",
   "name": "python",
   "nbconvert_exporter": "python",
   "pygments_lexer": "ipython3",
   "version": "3.9.6"
  }
 },
 "nbformat": 4,
 "nbformat_minor": 2
}
