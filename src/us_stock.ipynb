{
 "cells": [
  {
   "cell_type": "markdown",
   "metadata": {},
   "source": [
    "## Stock Display\n",
    "Below is a live view of current stock information for SPY and IBM:"
   ]
  },
  {
   "cell_type": "markdown",
   "metadata": {},
   "source": [
    "# Note\n",
    "\n",
    "- Current market trend\n",
    "- Screen a few \n",
    "- Closer examine, 5,30, 1H, 1D \n",
    "- Closer look with PPO, Fixed start"
   ]
  },
  {
   "cell_type": "code",
   "execution_count": null,
   "metadata": {},
   "outputs": [],
   "source": [
    "import pprint\n",
    "from utils import LAYOUTS, get_layout_by_name\n",
    "from utils import create_top_trending_stocks_dict\n",
    "from utils import get_top_trending_stocks, display_chart_in_browser, display_charts_from_dict, show_stock_by_algo, DAILY_BUYING_SCREEN_TEMPLATE,SYMBOL_INTERVAL_SCREEN_TEMPLATE\n",
    "# pprint.pprint(LAYOUTS)"
   ]
  },
  {
   "cell_type": "code",
   "execution_count": null,
   "metadata": {},
   "outputs": [],
   "source": [
    "SP500_SECTOR_HEATMAP='https://www.tradingview.com/heatmap/stock/#%7B%22dataSource%22%3A%22SPX500%22%2C%22blockColor%22%3A%22change%22%2C%22blockSize%22%3A%22market_cap_basic%22%2C%22grouping%22%3A%22sector%22%7D'"
   ]
  },
  {
   "cell_type": "code",
   "execution_count": null,
   "metadata": {},
   "outputs": [],
   "source": [
    "SECTOR =\"\"\" \n",
    "https://www.tradingview.com/markets/stocks-usa/sectorandindustry-sector/ \n",
    "\"\"\""
   ]
  },
  {
   "cell_type": "code",
   "execution_count": null,
   "metadata": {},
   "outputs": [],
   "source": [
    "schwab_roth = {\n",
    "    \"IAU\": {\n",
    "        \"Description\": \"ISHARES GOLD ETF\",\n",
    "        \"Qty\": 43\n",
    "    },\n",
    "    \"SCHX\": {\n",
    "        \"Description\": \"SCHWAB US LARGE CAP ETF\",\n",
    "        \"Qty\": 624\n",
    "    },\n",
    "    \"FNDX\": {\n",
    "        \"Description\": \"SCHWAB FUNDMNTL US LARGECOM\",\n",
    "        \"Qty\": 366\n",
    "    },\n",
    "    \"FNDA\": {\n",
    "        \"Description\": \"SCHWAB FUNDAMNTL US SML COM E\",\n",
    "        \"Qty\": 176\n",
    "    },\n",
    "    \"SCHA\": {\n",
    "        \"Description\": \"SCHWAB US SMALL CAP ETF\",\n",
    "        \"Qty\": 300\n",
    "    },\n",
    "    \"SPY\": {\n",
    "        \"Description\": \"SPDR S&P 500 ETF\",\n",
    "        \"Qty\": 40\n",
    "    },\n",
    "    \"FNDF\": {\n",
    "        \"Description\": \"SCHWAB FUNDAMNTL INTRNL EQT ETF\",\n",
    "        \"Qty\": 185\n",
    "    }\n",
    "}\n",
    "schwab_main = {\n",
    "    \"BYDDF\": {\n",
    "        \"Description\": \"BYD CO LTD ORDF\",\n",
    "        \"Qty\": 500\n",
    "    },\n",
    "    \"AKAM\": {\n",
    "        \"Description\": \"AKAMAI TECHNOLOGIES INC\",\n",
    "        \"Qty\": 116\n",
    "    },\n",
    "    \"SPY\": {\n",
    "        \"Description\": \"SPDR S&P 500 ETF\",\n",
    "        \"Qty\": 100\n",
    "    },\n",
    "    \"CLIP\": {\n",
    "        \"Description\": \"GLOBAL X 1-3 MONTH T-BILL ETF\",\n",
    "        \"Qty\": 200\n",
    "    }\n",
    "}\n",
    "\n",
    "# Capitalize the names in schwab_roth\n",
    "schwab_roth = {k.upper() for k, v in schwab_roth.items()}\n",
    "schwab_roth"
   ]
  },
  {
   "cell_type": "markdown",
   "metadata": {},
   "source": [
    "# Worked intervals"
   ]
  },
  {
   "cell_type": "code",
   "execution_count": null,
   "metadata": {},
   "outputs": [],
   "source": [
    "\n",
    "\n",
    "SCREEN_STOCKS = {\n",
    "    \"AZO\": {\n",
    "        \"symbol\": \"AZO\",\n",
    "        \"interval\": \"30\",\n",
    "        \"Note\": \"uptrading\",\n",
    "        \"layout\": \"VFWyLZpO\"\n",
    "    },\n",
    "\n",
    "    \"BABA\": {\n",
    "        \"symbol\": \"BABA\",\n",
    "        \"interval\": \"5\",\n",
    "        \"Note\": \"uptrading, Chinese new year\",\n",
    "        \"layout\": \"VFWyLZpO\"\n",
    "    }\n",
    "}\n",
    "\n"
   ]
  },
  {
   "cell_type": "code",
   "execution_count": null,
   "metadata": {},
   "outputs": [],
   "source": [
    "US_HOLDING=['SPY', 'BYDDF', 'AKAM']"
   ]
  },
  {
   "cell_type": "code",
   "execution_count": null,
   "metadata": {},
   "outputs": [],
   "source": [
    "stock = \"BYDDF\"\n",
    "stock = \"SPY\""
   ]
  },
  {
   "cell_type": "markdown",
   "metadata": {},
   "source": [
    "# One stock, multi-screens"
   ]
  },
  {
   "cell_type": "code",
   "execution_count": null,
   "metadata": {},
   "outputs": [],
   "source": [
    "show_stock_by_algo(stock=stock, layout_name=None)"
   ]
  },
  {
   "cell_type": "markdown",
   "metadata": {},
   "source": [
    "# Holding Performace"
   ]
  },
  {
   "cell_type": "markdown",
   "metadata": {},
   "source": [
    "# 10-30-4H View"
   ]
  },
  {
   "cell_type": "code",
   "execution_count": null,
   "metadata": {},
   "outputs": [],
   "source": [
    "display_chart_in_browser([stock], url_template=DAILY_BUYING_SCREEN_TEMPLATE)"
   ]
  },
  {
   "cell_type": "markdown",
   "metadata": {},
   "source": [
    "# Suite "
   ]
  },
  {
   "cell_type": "code",
   "execution_count": null,
   "metadata": {},
   "outputs": [],
   "source": [
    "\n",
    "display_chart_in_browser([stock], url_template=SYMBOL_INTERVAL_SCREEN_TEMPLATE.format(symbol=stock, interval='10'))\n",
    "display_chart_in_browser([stock], url_template=SYMBOL_INTERVAL_SCREEN_TEMPLATE.format(symbol=stock, interval='1H'))\n",
    "display_chart_in_browser([stock], url_template=SYMBOL_INTERVAL_SCREEN_TEMPLATE.format(symbol=stock, interval='1D'))"
   ]
  },
  {
   "cell_type": "code",
   "execution_count": null,
   "metadata": {},
   "outputs": [],
   "source": [
    "from utils import  display_tradingview_iframes\n",
    "display_tradingview_iframes(US_HOLDING, interval='1D')\n"
   ]
  },
  {
   "cell_type": "markdown",
   "metadata": {},
   "source": [
    "# Schwab Roth"
   ]
  },
  {
   "cell_type": "code",
   "execution_count": null,
   "metadata": {},
   "outputs": [],
   "source": [
    "display_tradingview_iframes(list(schwab_roth), interval='1D')\n"
   ]
  },
  {
   "cell_type": "code",
   "execution_count": null,
   "metadata": {},
   "outputs": [],
   "source": []
  }
 ],
 "metadata": {
  "kernelspec": {
   "display_name": "ai_4_wk",
   "language": "python",
   "name": "python3"
  },
  "language_info": {
   "codemirror_mode": {
    "name": "ipython",
    "version": 3
   },
   "file_extension": ".py",
   "mimetype": "text/x-python",
   "name": "python",
   "nbconvert_exporter": "python",
   "pygments_lexer": "ipython3",
   "version": "3.13.2"
  }
 },
 "nbformat": 4,
 "nbformat_minor": 2
}
