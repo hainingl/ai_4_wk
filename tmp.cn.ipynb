{
 "cells": [
  {
   "cell_type": "code",
   "execution_count": 17,
   "metadata": {
    "vscode": {
     "languageId": "shellscript"
    }
   },
   "outputs": [
    {
     "ename": "IndentationError",
     "evalue": "unindent does not match any outer indentation level (<tokenize>, line 6)",
     "output_type": "error",
     "traceback": [
      "\u001b[0;36m  File \u001b[0;32m<tokenize>:6\u001b[0;36m\u001b[0m\n\u001b[0;31m    }'\"\"\"\u001b[0m\n\u001b[0m    ^\u001b[0m\n\u001b[0;31mIndentationError\u001b[0m\u001b[0;31m:\u001b[0m unindent does not match any outer indentation level\n"
     ]
    }
   ],
   "source": [
    "!curl \"\"\"http://localhost:1234/v1/chat/completions \\\n",
    "  -H \"Content-Type: application/json\" \\\n",
    "  -d '{\n",
    "    \"messages\": [\n",
    "      {\"role\": \"user\", \"content\": \"Explain quantum computing in one sentence\"}\n",
    "    ],\n",
    "    \"stream\": false\n",
    "  }'\"\"\"\n"
   ]
  },
  {
   "cell_type": "code",
   "execution_count": 18,
   "metadata": {},
   "outputs": [
    {
     "name": "stdout",
     "output_type": "stream",
     "text": [
      "{'id': 'chatcmpl-ycnnp7qt5df4zyub5dt0mc', 'object': 'chat.completion', 'created': 1738536286, 'model': 'deepseek-r1-distill-qwen-7b', 'choices': [{'index': 0, 'logprobs': None, 'finish_reason': 'stop', 'message': {'role': 'assistant', 'content': \"<think>\\nOkay, so I need to explain what quantum computing is in one sentence. Hmm, where do I start? Well, I know that regular computers use bits which are either 0 or 1. Quantum computers must be different because of something called qubits. But wait, how exactly does a qubit work?\\n\\nI think it's supposed to represent more than just two states. Maybe superpositions? Yeah, that rings a bell from what I've heard before. So instead of being stuck at 0 or 1, a qubit can be in both states at the same time. That must give quantum computers some kind of processing power boost.\\n\\nBut how does that actually work? Like, when you have multiple qubits, their combinations could create exponentially more possibilities compared to bits. That means solving certain problems might be much faster on a quantum computer than on a classical one. I remember something about Shor's algorithm being used for factoring large numbers quickly, which is important for cryptography.\\n\\nSo putting it all together, quantum computing uses qubits that can exist in superpositions and entanglement to process information in parallel. This allows them to solve specific problems much more efficiently than traditional computers. Therefore, the key idea is that quantum computers leverage these quantum phenomena to perform computations that are beyond the capabilities of classical systems.\\n\\nWait, maybe I should structure this into a sentence. So it's not just about qubits being 0 or 1; it's their ability to be in multiple states at once and work together. Maybe something like: Quantum computing uses quantum-mechanical phenomena, such as superposition and entanglement, to perform calculations that are faster and more efficient than classical computers for certain tasks.\\n\\nYeah, that seems concise and covers the main points. I think that's a solid one-sentence explanation.\\n</think>\\n\\nQuantum computing leverages quantum-mechanical principles like superposition and entanglement to process information using qubits, enabling it to perform specific calculations far more efficiently than classical computers.\"}}], 'usage': {'prompt_tokens': 10, 'completion_tokens': 407, 'total_tokens': 417}, 'system_fingerprint': 'deepseek-r1-distill-qwen-7b'}\n"
     ]
    }
   ],
   "source": [
    "import requests\n",
    "import json\n",
    "\n",
    "url = \"http://localhost:1234/v1/chat/completions\"\n",
    "headers = {\"Content-Type\": \"application/json\"}\n",
    "data = {\n",
    "    \"messages\": [\n",
    "        {\"role\": \"user\", \"content\": \"Explain quantum computing in one sentence\"}\n",
    "    ],\n",
    "    \"stream\": False\n",
    "}\n",
    "\n",
    "response = requests.post(url, headers=headers, data=json.dumps(data))\n",
    "print(response.json())"
   ]
  },
  {
   "cell_type": "code",
   "execution_count": 20,
   "metadata": {
    "vscode": {
     "languageId": "shellscript"
    }
   },
   "outputs": [
    {
     "name": "stdout",
     "output_type": "stream",
     "text": [
      "{\n",
      "  \"data\": [\n",
      "    {\n",
      "      \"id\": \"deepseek-r1-distill-qwen-7b\",\n",
      "      \"object\": \"model\",\n",
      "      \"owned_by\": \"organization_owner\"\n",
      "    },\n",
      "    {\n",
      "      \"id\": \"nomic-ai/nomic-embed-text-v1.5-GGUF\",\n",
      "      \"object\": \"model\",\n",
      "      \"owned_by\": \"organization_owner\"\n",
      "    },\n",
      "    {\n",
      "      \"id\": \"text-embedding-nomic-embed-text-v1.5\",\n",
      "      \"object\": \"model\",\n",
      "      \"owned_by\": \"organization_owner\"\n",
      "    },\n",
      "    {\n",
      "      \"id\": \"deepseek-r1-distill-qwen-14b\",\n",
      "      \"object\": \"model\",\n",
      "      \"owned_by\": \"organization_owner\"\n",
      "    },\n",
      "    {\n",
      "      \"id\": \"deepseek-r1-distill-llama-8b\",\n",
      "      \"object\": \"model\",\n",
      "      \"owned_by\": \"organization_owner\"\n",
      "    }\n",
      "  ],\n",
      "  \"object\": \"list\"\n",
      "}"
     ]
    }
   ],
   "source": [
    "!curl http://localhost:1234/v1/models"
   ]
  }
 ],
 "metadata": {
  "kernelspec": {
   "display_name": "Python 3",
   "language": "python",
   "name": "python3"
  },
  "language_info": {
   "codemirror_mode": {
    "name": "ipython",
    "version": 3
   },
   "file_extension": ".py",
   "mimetype": "text/x-python",
   "name": "python",
   "nbconvert_exporter": "python",
   "pygments_lexer": "ipython3",
   "version": "3.9.6"
  }
 },
 "nbformat": 4,
 "nbformat_minor": 2
}
